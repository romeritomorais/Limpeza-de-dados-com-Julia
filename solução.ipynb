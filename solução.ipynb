{
 "cells": [
  {
   "cell_type": "code",
   "execution_count": 1,
   "metadata": {},
   "outputs": [],
   "source": [
    "cd(pwd());"
   ]
  },
  {
   "cell_type": "code",
   "execution_count": 2,
   "metadata": {},
   "outputs": [
    {
     "data": {
      "text/plain": [
       "4-element Array{String,1}:\n",
       " \".ipynb_checkpoints\"\n",
       " \"Divvy_Trips_2019_Q1.csv\"\n",
       " \"solução.ipynb\"\n",
       " \"trips.csv\""
      ]
     },
     "execution_count": 2,
     "metadata": {},
     "output_type": "execute_result"
    }
   ],
   "source": [
    "readdir()"
   ]
  },
  {
   "cell_type": "code",
   "execution_count": 3,
   "metadata": {},
   "outputs": [
    {
     "name": "stderr",
     "output_type": "stream",
     "text": [
      "\u001b[32m\u001b[1m   Updating\u001b[22m\u001b[39m registry at `~/.julia/registries/General`\n"
     ]
    },
    {
     "name": "stdout",
     "output_type": "stream",
     "text": [
      "\u001b[?25l\u001b[2K"
     ]
    },
    {
     "name": "stderr",
     "output_type": "stream",
     "text": [
      "\u001b[32m\u001b[1m   Updating\u001b[22m\u001b[39m git-repo `https://github.com/JuliaRegistries/General.git`\n"
     ]
    },
    {
     "name": "stdout",
     "output_type": "stream",
     "text": [
      "\u001b[?25h"
     ]
    },
    {
     "name": "stderr",
     "output_type": "stream",
     "text": [
      "\u001b[32m\u001b[1m  Resolving\u001b[22m\u001b[39m package versions...\n",
      "\u001b[32m\u001b[1m   Updating\u001b[22m\u001b[39m `~/.julia/environments/v1.4/Project.toml`\n",
      "\u001b[90m [no changes]\u001b[39m\n",
      "\u001b[32m\u001b[1m   Updating\u001b[22m\u001b[39m `~/.julia/environments/v1.4/Manifest.toml`\n",
      "\u001b[90m [no changes]\u001b[39m\n",
      "\u001b[32m\u001b[1m  Resolving\u001b[22m\u001b[39m package versions...\n",
      "\u001b[32m\u001b[1m   Updating\u001b[22m\u001b[39m `~/.julia/environments/v1.4/Project.toml`\n",
      "\u001b[90m [no changes]\u001b[39m\n",
      "\u001b[32m\u001b[1m   Updating\u001b[22m\u001b[39m `~/.julia/environments/v1.4/Manifest.toml`\n",
      "\u001b[90m [no changes]\u001b[39m\n",
      "\u001b[32m\u001b[1m  Resolving\u001b[22m\u001b[39m package versions...\n",
      "\u001b[32m\u001b[1m   Updating\u001b[22m\u001b[39m `~/.julia/environments/v1.4/Project.toml`\n",
      "\u001b[90m [no changes]\u001b[39m\n",
      "\u001b[32m\u001b[1m   Updating\u001b[22m\u001b[39m `~/.julia/environments/v1.4/Manifest.toml`\n",
      "\u001b[90m [no changes]\u001b[39m\n"
     ]
    }
   ],
   "source": [
    "using Pkg;\n",
    "\n",
    "Pkg.add(\"CSV\");\n",
    "Pkg.add(\"DataFrames\");\n",
    "Pkg.add(\"Statistics\");"
   ]
  },
  {
   "cell_type": "code",
   "execution_count": 4,
   "metadata": {},
   "outputs": [],
   "source": [
    "using CSV;\n",
    "using DataFrames;\n",
    "using Statistics;"
   ]
  },
  {
   "cell_type": "code",
   "execution_count": 5,
   "metadata": {},
   "outputs": [],
   "source": [
    "trips = DataFrame(CSV.File(\"Divvy_Trips_2019_Q1.csv\"));"
   ]
  },
  {
   "cell_type": "code",
   "execution_count": 6,
   "metadata": {},
   "outputs": [
    {
     "data": {
      "text/html": [
       "<table class=\"data-frame\"><thead><tr><th></th><th>trip_id</th><th>start_time</th><th>end_time</th><th>bikeid</th><th>tripduration</th><th>from_station_id</th></tr><tr><th></th><th>Int64</th><th>String</th><th>String</th><th>Int64</th><th>String</th><th>Int64</th></tr></thead><tbody><p>5 rows × 12 columns (omitted printing of 6 columns)</p><tr><th>1</th><td>21742443</td><td>2019-01-01 00:04:37</td><td>2019-01-01 00:11:07</td><td>2167</td><td>390.0</td><td>199</td></tr><tr><th>2</th><td>21742444</td><td>2019-01-01 00:08:13</td><td>2019-01-01 00:15:34</td><td>4386</td><td>441.0</td><td>44</td></tr><tr><th>3</th><td>21742445</td><td>2019-01-01 00:13:23</td><td>2019-01-01 00:27:12</td><td>1524</td><td>829.0</td><td>15</td></tr><tr><th>4</th><td>21742446</td><td>2019-01-01 00:13:45</td><td>2019-01-01 00:43:28</td><td>252</td><td>1,783.0</td><td>123</td></tr><tr><th>5</th><td>21742447</td><td>2019-01-01 00:14:52</td><td>2019-01-01 00:20:56</td><td>1170</td><td>364.0</td><td>173</td></tr></tbody></table>"
      ],
      "text/latex": [
       "\\begin{tabular}{r|ccccccc}\n",
       "\t& trip\\_id & start\\_time & end\\_time & bikeid & tripduration & from\\_station\\_id & \\\\\n",
       "\t\\hline\n",
       "\t& Int64 & String & String & Int64 & String & Int64 & \\\\\n",
       "\t\\hline\n",
       "\t1 & 21742443 & 2019-01-01 00:04:37 & 2019-01-01 00:11:07 & 2167 & 390.0 & 199 & $\\dots$ \\\\\n",
       "\t2 & 21742444 & 2019-01-01 00:08:13 & 2019-01-01 00:15:34 & 4386 & 441.0 & 44 & $\\dots$ \\\\\n",
       "\t3 & 21742445 & 2019-01-01 00:13:23 & 2019-01-01 00:27:12 & 1524 & 829.0 & 15 & $\\dots$ \\\\\n",
       "\t4 & 21742446 & 2019-01-01 00:13:45 & 2019-01-01 00:43:28 & 252 & 1,783.0 & 123 & $\\dots$ \\\\\n",
       "\t5 & 21742447 & 2019-01-01 00:14:52 & 2019-01-01 00:20:56 & 1170 & 364.0 & 173 & $\\dots$ \\\\\n",
       "\\end{tabular}\n"
      ],
      "text/plain": [
       "5×12 DataFrame. Omitted printing of 8 columns\n",
       "│ Row │ trip_id  │ start_time          │ end_time            │ bikeid │\n",
       "│     │ \u001b[90mInt64\u001b[39m    │ \u001b[90mString\u001b[39m              │ \u001b[90mString\u001b[39m              │ \u001b[90mInt64\u001b[39m  │\n",
       "├─────┼──────────┼─────────────────────┼─────────────────────┼────────┤\n",
       "│ 1   │ 21742443 │ 2019-01-01 00:04:37 │ 2019-01-01 00:11:07 │ 2167   │\n",
       "│ 2   │ 21742444 │ 2019-01-01 00:08:13 │ 2019-01-01 00:15:34 │ 4386   │\n",
       "│ 3   │ 21742445 │ 2019-01-01 00:13:23 │ 2019-01-01 00:27:12 │ 1524   │\n",
       "│ 4   │ 21742446 │ 2019-01-01 00:13:45 │ 2019-01-01 00:43:28 │ 252    │\n",
       "│ 5   │ 21742447 │ 2019-01-01 00:14:52 │ 2019-01-01 00:20:56 │ 1170   │"
      ]
     },
     "execution_count": 6,
     "metadata": {},
     "output_type": "execute_result"
    }
   ],
   "source": [
    "first(trips, 5)"
   ]
  },
  {
   "cell_type": "code",
   "execution_count": 7,
   "metadata": {},
   "outputs": [
    {
     "data": {
      "text/plain": [
       "12-element Array{String,1}:\n",
       " \"trip_id\"\n",
       " \"start_time\"\n",
       " \"end_time\"\n",
       " \"bikeid\"\n",
       " \"tripduration\"\n",
       " \"from_station_id\"\n",
       " \"from_station_name\"\n",
       " \"to_station_id\"\n",
       " \"to_station_name\"\n",
       " \"usertype\"\n",
       " \"gender\"\n",
       " \"birthyear\""
      ]
     },
     "execution_count": 7,
     "metadata": {},
     "output_type": "execute_result"
    }
   ],
   "source": [
    "names(trips)"
   ]
  },
  {
   "cell_type": "code",
   "execution_count": 8,
   "metadata": {},
   "outputs": [
    {
     "data": {
      "text/plain": [
       "12-element Array{Type,1}:\n",
       " Int64\n",
       " String\n",
       " String\n",
       " Int64\n",
       " String\n",
       " Int64\n",
       " String\n",
       " Int64\n",
       " String\n",
       " String\n",
       " Union{Missing, String}\n",
       " Union{Missing, Int64}"
      ]
     },
     "execution_count": 8,
     "metadata": {},
     "output_type": "execute_result"
    }
   ],
   "source": [
    "eltype.(eachcol(trips))"
   ]
  },
  {
   "cell_type": "code",
   "execution_count": 9,
   "metadata": {},
   "outputs": [
    {
     "data": {
      "text/plain": [
       "(365069, 12)"
      ]
     },
     "execution_count": 9,
     "metadata": {},
     "output_type": "execute_result"
    }
   ],
   "source": [
    "size(trips)"
   ]
  },
  {
   "cell_type": "code",
   "execution_count": 10,
   "metadata": {},
   "outputs": [
    {
     "data": {
      "text/html": [
       "<table class=\"data-frame\"><thead><tr><th></th><th>codigo</th><th>tempo_inicial</th><th>tempo_final</th><th>codigo_bike</th><th>duracao_viagem</th></tr><tr><th></th><th>Int64</th><th>String</th><th>String</th><th>Int64</th><th>String</th></tr></thead><tbody><p>365,069 rows × 12 columns (omitted printing of 7 columns)</p><tr><th>1</th><td>21742443</td><td>2019-01-01 00:04:37</td><td>2019-01-01 00:11:07</td><td>2167</td><td>390.0</td></tr><tr><th>2</th><td>21742444</td><td>2019-01-01 00:08:13</td><td>2019-01-01 00:15:34</td><td>4386</td><td>441.0</td></tr><tr><th>3</th><td>21742445</td><td>2019-01-01 00:13:23</td><td>2019-01-01 00:27:12</td><td>1524</td><td>829.0</td></tr><tr><th>4</th><td>21742446</td><td>2019-01-01 00:13:45</td><td>2019-01-01 00:43:28</td><td>252</td><td>1,783.0</td></tr><tr><th>5</th><td>21742447</td><td>2019-01-01 00:14:52</td><td>2019-01-01 00:20:56</td><td>1170</td><td>364.0</td></tr><tr><th>6</th><td>21742448</td><td>2019-01-01 00:15:33</td><td>2019-01-01 00:19:09</td><td>2437</td><td>216.0</td></tr><tr><th>7</th><td>21742449</td><td>2019-01-01 00:16:06</td><td>2019-01-01 00:19:03</td><td>2708</td><td>177.0</td></tr><tr><th>8</th><td>21742450</td><td>2019-01-01 00:18:41</td><td>2019-01-01 00:20:21</td><td>2796</td><td>100.0</td></tr><tr><th>9</th><td>21742451</td><td>2019-01-01 00:18:43</td><td>2019-01-01 00:47:30</td><td>6205</td><td>1,727.0</td></tr><tr><th>10</th><td>21742452</td><td>2019-01-01 00:19:18</td><td>2019-01-01 00:24:54</td><td>3939</td><td>336.0</td></tr><tr><th>11</th><td>21742453</td><td>2019-01-01 00:20:34</td><td>2019-01-01 00:35:20</td><td>6243</td><td>886.0</td></tr><tr><th>12</th><td>21742454</td><td>2019-01-01 00:21:52</td><td>2019-01-01 00:32:45</td><td>6300</td><td>653.0</td></tr><tr><th>13</th><td>21742455</td><td>2019-01-01 00:23:04</td><td>2019-01-01 00:33:05</td><td>3029</td><td>601.0</td></tr><tr><th>14</th><td>21742456</td><td>2019-01-01 00:23:43</td><td>2019-01-01 00:33:05</td><td>84</td><td>562.0</td></tr><tr><th>15</th><td>21742457</td><td>2019-01-01 00:23:54</td><td>2019-01-01 00:39:00</td><td>5019</td><td>906.0</td></tr><tr><th>16</th><td>21742458</td><td>2019-01-01 00:24:08</td><td>2019-01-01 00:39:00</td><td>5526</td><td>892.0</td></tr><tr><th>17</th><td>21742459</td><td>2019-01-01 00:24:13</td><td>2019-01-01 00:31:00</td><td>3373</td><td>407.0</td></tr><tr><th>18</th><td>21742460</td><td>2019-01-01 00:24:27</td><td>2019-01-01 00:47:03</td><td>5777</td><td>1,356.0</td></tr><tr><th>19</th><td>21742461</td><td>2019-01-01 00:25:28</td><td>2019-01-01 00:27:10</td><td>3940</td><td>102.0</td></tr><tr><th>20</th><td>21742463</td><td>2019-01-01 00:29:19</td><td>2019-01-01 01:08:12</td><td>3914</td><td>2,333.0</td></tr><tr><th>21</th><td>21742464</td><td>2019-01-01 00:29:21</td><td>2019-01-01 00:45:21</td><td>140</td><td>960.0</td></tr><tr><th>22</th><td>21742465</td><td>2019-01-01 00:29:28</td><td>2019-01-01 01:07:49</td><td>3355</td><td>2,301.0</td></tr><tr><th>23</th><td>21742466</td><td>2019-01-01 00:29:47</td><td>2019-01-01 00:49:15</td><td>5026</td><td>1,168.0</td></tr><tr><th>24</th><td>21742467</td><td>2019-01-01 00:30:48</td><td>2019-01-01 00:38:42</td><td>1998</td><td>474.0</td></tr><tr><th>25</th><td>21742468</td><td>2019-01-01 00:33:09</td><td>2019-01-01 00:50:25</td><td>2630</td><td>1,036.0</td></tr><tr><th>26</th><td>21742469</td><td>2019-01-01 00:34:35</td><td>2019-01-01 00:38:25</td><td>3722</td><td>230.0</td></tr><tr><th>27</th><td>21742471</td><td>2019-01-01 00:38:11</td><td>2019-01-01 00:50:38</td><td>1166</td><td>747.0</td></tr><tr><th>28</th><td>21742472</td><td>2019-01-01 00:38:47</td><td>2019-01-01 00:50:38</td><td>1704</td><td>711.0</td></tr><tr><th>29</th><td>21742473</td><td>2019-01-01 00:40:16</td><td>2019-01-01 00:49:29</td><td>1476</td><td>553.0</td></tr><tr><th>30</th><td>21742474</td><td>2019-01-01 00:41:46</td><td>2019-01-01 00:50:27</td><td>4614</td><td>521.0</td></tr><tr><th>&vellip;</th><td>&vellip;</td><td>&vellip;</td><td>&vellip;</td><td>&vellip;</td><td>&vellip;</td></tr></tbody></table>"
      ],
      "text/latex": [
       "\\begin{tabular}{r|cccccc}\n",
       "\t& codigo & tempo\\_inicial & tempo\\_final & codigo\\_bike & duracao\\_viagem & \\\\\n",
       "\t\\hline\n",
       "\t& Int64 & String & String & Int64 & String & \\\\\n",
       "\t\\hline\n",
       "\t1 & 21742443 & 2019-01-01 00:04:37 & 2019-01-01 00:11:07 & 2167 & 390.0 & $\\dots$ \\\\\n",
       "\t2 & 21742444 & 2019-01-01 00:08:13 & 2019-01-01 00:15:34 & 4386 & 441.0 & $\\dots$ \\\\\n",
       "\t3 & 21742445 & 2019-01-01 00:13:23 & 2019-01-01 00:27:12 & 1524 & 829.0 & $\\dots$ \\\\\n",
       "\t4 & 21742446 & 2019-01-01 00:13:45 & 2019-01-01 00:43:28 & 252 & 1,783.0 & $\\dots$ \\\\\n",
       "\t5 & 21742447 & 2019-01-01 00:14:52 & 2019-01-01 00:20:56 & 1170 & 364.0 & $\\dots$ \\\\\n",
       "\t6 & 21742448 & 2019-01-01 00:15:33 & 2019-01-01 00:19:09 & 2437 & 216.0 & $\\dots$ \\\\\n",
       "\t7 & 21742449 & 2019-01-01 00:16:06 & 2019-01-01 00:19:03 & 2708 & 177.0 & $\\dots$ \\\\\n",
       "\t8 & 21742450 & 2019-01-01 00:18:41 & 2019-01-01 00:20:21 & 2796 & 100.0 & $\\dots$ \\\\\n",
       "\t9 & 21742451 & 2019-01-01 00:18:43 & 2019-01-01 00:47:30 & 6205 & 1,727.0 & $\\dots$ \\\\\n",
       "\t10 & 21742452 & 2019-01-01 00:19:18 & 2019-01-01 00:24:54 & 3939 & 336.0 & $\\dots$ \\\\\n",
       "\t11 & 21742453 & 2019-01-01 00:20:34 & 2019-01-01 00:35:20 & 6243 & 886.0 & $\\dots$ \\\\\n",
       "\t12 & 21742454 & 2019-01-01 00:21:52 & 2019-01-01 00:32:45 & 6300 & 653.0 & $\\dots$ \\\\\n",
       "\t13 & 21742455 & 2019-01-01 00:23:04 & 2019-01-01 00:33:05 & 3029 & 601.0 & $\\dots$ \\\\\n",
       "\t14 & 21742456 & 2019-01-01 00:23:43 & 2019-01-01 00:33:05 & 84 & 562.0 & $\\dots$ \\\\\n",
       "\t15 & 21742457 & 2019-01-01 00:23:54 & 2019-01-01 00:39:00 & 5019 & 906.0 & $\\dots$ \\\\\n",
       "\t16 & 21742458 & 2019-01-01 00:24:08 & 2019-01-01 00:39:00 & 5526 & 892.0 & $\\dots$ \\\\\n",
       "\t17 & 21742459 & 2019-01-01 00:24:13 & 2019-01-01 00:31:00 & 3373 & 407.0 & $\\dots$ \\\\\n",
       "\t18 & 21742460 & 2019-01-01 00:24:27 & 2019-01-01 00:47:03 & 5777 & 1,356.0 & $\\dots$ \\\\\n",
       "\t19 & 21742461 & 2019-01-01 00:25:28 & 2019-01-01 00:27:10 & 3940 & 102.0 & $\\dots$ \\\\\n",
       "\t20 & 21742463 & 2019-01-01 00:29:19 & 2019-01-01 01:08:12 & 3914 & 2,333.0 & $\\dots$ \\\\\n",
       "\t21 & 21742464 & 2019-01-01 00:29:21 & 2019-01-01 00:45:21 & 140 & 960.0 & $\\dots$ \\\\\n",
       "\t22 & 21742465 & 2019-01-01 00:29:28 & 2019-01-01 01:07:49 & 3355 & 2,301.0 & $\\dots$ \\\\\n",
       "\t23 & 21742466 & 2019-01-01 00:29:47 & 2019-01-01 00:49:15 & 5026 & 1,168.0 & $\\dots$ \\\\\n",
       "\t24 & 21742467 & 2019-01-01 00:30:48 & 2019-01-01 00:38:42 & 1998 & 474.0 & $\\dots$ \\\\\n",
       "\t25 & 21742468 & 2019-01-01 00:33:09 & 2019-01-01 00:50:25 & 2630 & 1,036.0 & $\\dots$ \\\\\n",
       "\t26 & 21742469 & 2019-01-01 00:34:35 & 2019-01-01 00:38:25 & 3722 & 230.0 & $\\dots$ \\\\\n",
       "\t27 & 21742471 & 2019-01-01 00:38:11 & 2019-01-01 00:50:38 & 1166 & 747.0 & $\\dots$ \\\\\n",
       "\t28 & 21742472 & 2019-01-01 00:38:47 & 2019-01-01 00:50:38 & 1704 & 711.0 & $\\dots$ \\\\\n",
       "\t29 & 21742473 & 2019-01-01 00:40:16 & 2019-01-01 00:49:29 & 1476 & 553.0 & $\\dots$ \\\\\n",
       "\t30 & 21742474 & 2019-01-01 00:41:46 & 2019-01-01 00:50:27 & 4614 & 521.0 & $\\dots$ \\\\\n",
       "\t$\\dots$ & $\\dots$ & $\\dots$ & $\\dots$ & $\\dots$ & $\\dots$ &  \\\\\n",
       "\\end{tabular}\n"
      ],
      "text/plain": [
       "365069×12 DataFrame. Omitted printing of 8 columns\n",
       "│ Row    │ codigo   │ tempo_inicial       │ tempo_final         │ codigo_bike │\n",
       "│        │ \u001b[90mInt64\u001b[39m    │ \u001b[90mString\u001b[39m              │ \u001b[90mString\u001b[39m              │ \u001b[90mInt64\u001b[39m       │\n",
       "├────────┼──────────┼─────────────────────┼─────────────────────┼─────────────┤\n",
       "│ 1      │ 21742443 │ 2019-01-01 00:04:37 │ 2019-01-01 00:11:07 │ 2167        │\n",
       "│ 2      │ 21742444 │ 2019-01-01 00:08:13 │ 2019-01-01 00:15:34 │ 4386        │\n",
       "│ 3      │ 21742445 │ 2019-01-01 00:13:23 │ 2019-01-01 00:27:12 │ 1524        │\n",
       "│ 4      │ 21742446 │ 2019-01-01 00:13:45 │ 2019-01-01 00:43:28 │ 252         │\n",
       "│ 5      │ 21742447 │ 2019-01-01 00:14:52 │ 2019-01-01 00:20:56 │ 1170        │\n",
       "│ 6      │ 21742448 │ 2019-01-01 00:15:33 │ 2019-01-01 00:19:09 │ 2437        │\n",
       "│ 7      │ 21742449 │ 2019-01-01 00:16:06 │ 2019-01-01 00:19:03 │ 2708        │\n",
       "│ 8      │ 21742450 │ 2019-01-01 00:18:41 │ 2019-01-01 00:20:21 │ 2796        │\n",
       "│ 9      │ 21742451 │ 2019-01-01 00:18:43 │ 2019-01-01 00:47:30 │ 6205        │\n",
       "│ 10     │ 21742452 │ 2019-01-01 00:19:18 │ 2019-01-01 00:24:54 │ 3939        │\n",
       "⋮\n",
       "│ 365059 │ 22178517 │ 2019-03-31 23:32:54 │ 2019-03-31 23:37:50 │ 2846        │\n",
       "│ 365060 │ 22178518 │ 2019-03-31 23:33:02 │ 2019-03-31 23:43:15 │ 2772        │\n",
       "│ 365061 │ 22178519 │ 2019-03-31 23:33:14 │ 2019-03-31 23:37:40 │ 4304        │\n",
       "│ 365062 │ 22178520 │ 2019-03-31 23:34:08 │ 2019-03-31 23:38:07 │ 667         │\n",
       "│ 365063 │ 22178521 │ 2019-03-31 23:39:48 │ 2019-03-31 23:41:41 │ 4814        │\n",
       "│ 365064 │ 22178522 │ 2019-03-31 23:47:05 │ 2019-03-31 23:51:35 │ 3873        │\n",
       "│ 365065 │ 22178524 │ 2019-03-31 23:51:32 │ 2019-04-01 00:04:09 │ 1501        │\n",
       "│ 365066 │ 22178525 │ 2019-03-31 23:52:37 │ 2019-03-31 23:58:09 │ 3270        │\n",
       "│ 365067 │ 22178526 │ 2019-03-31 23:52:38 │ 2019-04-01 00:06:44 │ 3584        │\n",
       "│ 365068 │ 22178527 │ 2019-03-31 23:53:08 │ 2019-03-31 23:56:06 │ 4384        │\n",
       "│ 365069 │ 22178528 │ 2019-03-31 23:53:48 │ 2019-04-01 00:01:16 │ 5589        │"
      ]
     },
     "execution_count": 10,
     "metadata": {},
     "output_type": "execute_result"
    }
   ],
   "source": [
    "rename!(trips, :trip_id             => :codigo,       \n",
    "               :start_time          => :tempo_inicial,\n",
    "               :end_time            => :tempo_final,\n",
    "               :bikeid              => :codigo_bike,\n",
    "               :tripduration        => :duracao_viagem,\n",
    "               :from_station_id     => :codigo_inicio,\n",
    "               :from_station_name   => :estacao_inicio,\n",
    "               :to_station_id       => :codigo_final,\n",
    "               :to_station_name     => :estacao_final,\n",
    "               :usertype            => :tipo_usuario,\n",
    "               :gender              => :genero,\n",
    "               :birthyear           => :ano_aniversario)"
   ]
  },
  {
   "cell_type": "code",
   "execution_count": 11,
   "metadata": {},
   "outputs": [
    {
     "data": {
      "text/plain": [
       "12-element Array{String,1}:\n",
       " \"codigo\"\n",
       " \"tempo_inicial\"\n",
       " \"tempo_final\"\n",
       " \"codigo_bike\"\n",
       " \"duracao_viagem\"\n",
       " \"codigo_inicio\"\n",
       " \"estacao_inicio\"\n",
       " \"codigo_final\"\n",
       " \"estacao_final\"\n",
       " \"tipo_usuario\"\n",
       " \"genero\"\n",
       " \"ano_aniversario\""
      ]
     },
     "execution_count": 11,
     "metadata": {},
     "output_type": "execute_result"
    }
   ],
   "source": [
    "names(trips)"
   ]
  },
  {
   "cell_type": "code",
   "execution_count": 12,
   "metadata": {},
   "outputs": [
    {
     "data": {
      "text/plain": [
       "365069-element Array{String,1}:\n",
       " \"390.0\"\n",
       " \"441.0\"\n",
       " \"829.0\"\n",
       " \"1783.0\"\n",
       " \"364.0\"\n",
       " \"216.0\"\n",
       " \"177.0\"\n",
       " \"100.0\"\n",
       " \"1727.0\"\n",
       " \"336.0\"\n",
       " \"886.0\"\n",
       " \"653.0\"\n",
       " \"601.0\"\n",
       " ⋮\n",
       " \"239.0\"\n",
       " \"296.0\"\n",
       " \"613.0\"\n",
       " \"266.0\"\n",
       " \"239.0\"\n",
       " \"113.0\"\n",
       " \"270.0\"\n",
       " \"757.0\"\n",
       " \"332.0\"\n",
       " \"846.0\"\n",
       " \"178.0\"\n",
       " \"448.0\""
      ]
     },
     "execution_count": 12,
     "metadata": {},
     "output_type": "execute_result"
    }
   ],
   "source": [
    "trips[!, :duracao_minutos] .= map((x) -> replace(x,\",\" => \"\"), trips.duracao_viagem)"
   ]
  },
  {
   "cell_type": "code",
   "execution_count": 13,
   "metadata": {},
   "outputs": [
    {
     "data": {
      "text/html": [
       "<table class=\"data-frame\"><thead><tr><th></th><th>codigo</th><th>tempo_inicial</th><th>tempo_final</th><th>duracao_viagem</th><th>tipo_usuario</th></tr><tr><th></th><th>Int64</th><th>String</th><th>String</th><th>String</th><th>String</th></tr></thead><tbody><p>365,069 rows × 8 columns (omitted printing of 3 columns)</p><tr><th>1</th><td>21742443</td><td>2019-01-01 00:04:37</td><td>2019-01-01 00:11:07</td><td>390.0</td><td>Subscriber</td></tr><tr><th>2</th><td>21742444</td><td>2019-01-01 00:08:13</td><td>2019-01-01 00:15:34</td><td>441.0</td><td>Subscriber</td></tr><tr><th>3</th><td>21742445</td><td>2019-01-01 00:13:23</td><td>2019-01-01 00:27:12</td><td>829.0</td><td>Subscriber</td></tr><tr><th>4</th><td>21742446</td><td>2019-01-01 00:13:45</td><td>2019-01-01 00:43:28</td><td>1,783.0</td><td>Subscriber</td></tr><tr><th>5</th><td>21742447</td><td>2019-01-01 00:14:52</td><td>2019-01-01 00:20:56</td><td>364.0</td><td>Subscriber</td></tr><tr><th>6</th><td>21742448</td><td>2019-01-01 00:15:33</td><td>2019-01-01 00:19:09</td><td>216.0</td><td>Subscriber</td></tr><tr><th>7</th><td>21742449</td><td>2019-01-01 00:16:06</td><td>2019-01-01 00:19:03</td><td>177.0</td><td>Subscriber</td></tr><tr><th>8</th><td>21742450</td><td>2019-01-01 00:18:41</td><td>2019-01-01 00:20:21</td><td>100.0</td><td>Subscriber</td></tr><tr><th>9</th><td>21742451</td><td>2019-01-01 00:18:43</td><td>2019-01-01 00:47:30</td><td>1,727.0</td><td>Subscriber</td></tr><tr><th>10</th><td>21742452</td><td>2019-01-01 00:19:18</td><td>2019-01-01 00:24:54</td><td>336.0</td><td>Subscriber</td></tr><tr><th>11</th><td>21742453</td><td>2019-01-01 00:20:34</td><td>2019-01-01 00:35:20</td><td>886.0</td><td>Subscriber</td></tr><tr><th>12</th><td>21742454</td><td>2019-01-01 00:21:52</td><td>2019-01-01 00:32:45</td><td>653.0</td><td>Subscriber</td></tr><tr><th>13</th><td>21742455</td><td>2019-01-01 00:23:04</td><td>2019-01-01 00:33:05</td><td>601.0</td><td>Subscriber</td></tr><tr><th>14</th><td>21742456</td><td>2019-01-01 00:23:43</td><td>2019-01-01 00:33:05</td><td>562.0</td><td>Customer</td></tr><tr><th>15</th><td>21742457</td><td>2019-01-01 00:23:54</td><td>2019-01-01 00:39:00</td><td>906.0</td><td>Subscriber</td></tr><tr><th>16</th><td>21742458</td><td>2019-01-01 00:24:08</td><td>2019-01-01 00:39:00</td><td>892.0</td><td>Subscriber</td></tr><tr><th>17</th><td>21742459</td><td>2019-01-01 00:24:13</td><td>2019-01-01 00:31:00</td><td>407.0</td><td>Subscriber</td></tr><tr><th>18</th><td>21742460</td><td>2019-01-01 00:24:27</td><td>2019-01-01 00:47:03</td><td>1,356.0</td><td>Customer</td></tr><tr><th>19</th><td>21742461</td><td>2019-01-01 00:25:28</td><td>2019-01-01 00:27:10</td><td>102.0</td><td>Subscriber</td></tr><tr><th>20</th><td>21742463</td><td>2019-01-01 00:29:19</td><td>2019-01-01 01:08:12</td><td>2,333.0</td><td>Customer</td></tr><tr><th>21</th><td>21742464</td><td>2019-01-01 00:29:21</td><td>2019-01-01 00:45:21</td><td>960.0</td><td>Subscriber</td></tr><tr><th>22</th><td>21742465</td><td>2019-01-01 00:29:28</td><td>2019-01-01 01:07:49</td><td>2,301.0</td><td>Customer</td></tr><tr><th>23</th><td>21742466</td><td>2019-01-01 00:29:47</td><td>2019-01-01 00:49:15</td><td>1,168.0</td><td>Subscriber</td></tr><tr><th>24</th><td>21742467</td><td>2019-01-01 00:30:48</td><td>2019-01-01 00:38:42</td><td>474.0</td><td>Subscriber</td></tr><tr><th>25</th><td>21742468</td><td>2019-01-01 00:33:09</td><td>2019-01-01 00:50:25</td><td>1,036.0</td><td>Subscriber</td></tr><tr><th>26</th><td>21742469</td><td>2019-01-01 00:34:35</td><td>2019-01-01 00:38:25</td><td>230.0</td><td>Subscriber</td></tr><tr><th>27</th><td>21742471</td><td>2019-01-01 00:38:11</td><td>2019-01-01 00:50:38</td><td>747.0</td><td>Subscriber</td></tr><tr><th>28</th><td>21742472</td><td>2019-01-01 00:38:47</td><td>2019-01-01 00:50:38</td><td>711.0</td><td>Subscriber</td></tr><tr><th>29</th><td>21742473</td><td>2019-01-01 00:40:16</td><td>2019-01-01 00:49:29</td><td>553.0</td><td>Subscriber</td></tr><tr><th>30</th><td>21742474</td><td>2019-01-01 00:41:46</td><td>2019-01-01 00:50:27</td><td>521.0</td><td>Subscriber</td></tr><tr><th>&vellip;</th><td>&vellip;</td><td>&vellip;</td><td>&vellip;</td><td>&vellip;</td><td>&vellip;</td></tr></tbody></table>"
      ],
      "text/latex": [
       "\\begin{tabular}{r|cccccc}\n",
       "\t& codigo & tempo\\_inicial & tempo\\_final & duracao\\_viagem & tipo\\_usuario & \\\\\n",
       "\t\\hline\n",
       "\t& Int64 & String & String & String & String & \\\\\n",
       "\t\\hline\n",
       "\t1 & 21742443 & 2019-01-01 00:04:37 & 2019-01-01 00:11:07 & 390.0 & Subscriber & $\\dots$ \\\\\n",
       "\t2 & 21742444 & 2019-01-01 00:08:13 & 2019-01-01 00:15:34 & 441.0 & Subscriber & $\\dots$ \\\\\n",
       "\t3 & 21742445 & 2019-01-01 00:13:23 & 2019-01-01 00:27:12 & 829.0 & Subscriber & $\\dots$ \\\\\n",
       "\t4 & 21742446 & 2019-01-01 00:13:45 & 2019-01-01 00:43:28 & 1,783.0 & Subscriber & $\\dots$ \\\\\n",
       "\t5 & 21742447 & 2019-01-01 00:14:52 & 2019-01-01 00:20:56 & 364.0 & Subscriber & $\\dots$ \\\\\n",
       "\t6 & 21742448 & 2019-01-01 00:15:33 & 2019-01-01 00:19:09 & 216.0 & Subscriber & $\\dots$ \\\\\n",
       "\t7 & 21742449 & 2019-01-01 00:16:06 & 2019-01-01 00:19:03 & 177.0 & Subscriber & $\\dots$ \\\\\n",
       "\t8 & 21742450 & 2019-01-01 00:18:41 & 2019-01-01 00:20:21 & 100.0 & Subscriber & $\\dots$ \\\\\n",
       "\t9 & 21742451 & 2019-01-01 00:18:43 & 2019-01-01 00:47:30 & 1,727.0 & Subscriber & $\\dots$ \\\\\n",
       "\t10 & 21742452 & 2019-01-01 00:19:18 & 2019-01-01 00:24:54 & 336.0 & Subscriber & $\\dots$ \\\\\n",
       "\t11 & 21742453 & 2019-01-01 00:20:34 & 2019-01-01 00:35:20 & 886.0 & Subscriber & $\\dots$ \\\\\n",
       "\t12 & 21742454 & 2019-01-01 00:21:52 & 2019-01-01 00:32:45 & 653.0 & Subscriber & $\\dots$ \\\\\n",
       "\t13 & 21742455 & 2019-01-01 00:23:04 & 2019-01-01 00:33:05 & 601.0 & Subscriber & $\\dots$ \\\\\n",
       "\t14 & 21742456 & 2019-01-01 00:23:43 & 2019-01-01 00:33:05 & 562.0 & Customer & $\\dots$ \\\\\n",
       "\t15 & 21742457 & 2019-01-01 00:23:54 & 2019-01-01 00:39:00 & 906.0 & Subscriber & $\\dots$ \\\\\n",
       "\t16 & 21742458 & 2019-01-01 00:24:08 & 2019-01-01 00:39:00 & 892.0 & Subscriber & $\\dots$ \\\\\n",
       "\t17 & 21742459 & 2019-01-01 00:24:13 & 2019-01-01 00:31:00 & 407.0 & Subscriber & $\\dots$ \\\\\n",
       "\t18 & 21742460 & 2019-01-01 00:24:27 & 2019-01-01 00:47:03 & 1,356.0 & Customer & $\\dots$ \\\\\n",
       "\t19 & 21742461 & 2019-01-01 00:25:28 & 2019-01-01 00:27:10 & 102.0 & Subscriber & $\\dots$ \\\\\n",
       "\t20 & 21742463 & 2019-01-01 00:29:19 & 2019-01-01 01:08:12 & 2,333.0 & Customer & $\\dots$ \\\\\n",
       "\t21 & 21742464 & 2019-01-01 00:29:21 & 2019-01-01 00:45:21 & 960.0 & Subscriber & $\\dots$ \\\\\n",
       "\t22 & 21742465 & 2019-01-01 00:29:28 & 2019-01-01 01:07:49 & 2,301.0 & Customer & $\\dots$ \\\\\n",
       "\t23 & 21742466 & 2019-01-01 00:29:47 & 2019-01-01 00:49:15 & 1,168.0 & Subscriber & $\\dots$ \\\\\n",
       "\t24 & 21742467 & 2019-01-01 00:30:48 & 2019-01-01 00:38:42 & 474.0 & Subscriber & $\\dots$ \\\\\n",
       "\t25 & 21742468 & 2019-01-01 00:33:09 & 2019-01-01 00:50:25 & 1,036.0 & Subscriber & $\\dots$ \\\\\n",
       "\t26 & 21742469 & 2019-01-01 00:34:35 & 2019-01-01 00:38:25 & 230.0 & Subscriber & $\\dots$ \\\\\n",
       "\t27 & 21742471 & 2019-01-01 00:38:11 & 2019-01-01 00:50:38 & 747.0 & Subscriber & $\\dots$ \\\\\n",
       "\t28 & 21742472 & 2019-01-01 00:38:47 & 2019-01-01 00:50:38 & 711.0 & Subscriber & $\\dots$ \\\\\n",
       "\t29 & 21742473 & 2019-01-01 00:40:16 & 2019-01-01 00:49:29 & 553.0 & Subscriber & $\\dots$ \\\\\n",
       "\t30 & 21742474 & 2019-01-01 00:41:46 & 2019-01-01 00:50:27 & 521.0 & Subscriber & $\\dots$ \\\\\n",
       "\t$\\dots$ & $\\dots$ & $\\dots$ & $\\dots$ & $\\dots$ & $\\dots$ &  \\\\\n",
       "\\end{tabular}\n"
      ],
      "text/plain": [
       "365069×8 DataFrame. Omitted printing of 5 columns\n",
       "│ Row    │ codigo   │ tempo_inicial       │ tempo_final         │\n",
       "│        │ \u001b[90mInt64\u001b[39m    │ \u001b[90mString\u001b[39m              │ \u001b[90mString\u001b[39m              │\n",
       "├────────┼──────────┼─────────────────────┼─────────────────────┤\n",
       "│ 1      │ 21742443 │ 2019-01-01 00:04:37 │ 2019-01-01 00:11:07 │\n",
       "│ 2      │ 21742444 │ 2019-01-01 00:08:13 │ 2019-01-01 00:15:34 │\n",
       "│ 3      │ 21742445 │ 2019-01-01 00:13:23 │ 2019-01-01 00:27:12 │\n",
       "│ 4      │ 21742446 │ 2019-01-01 00:13:45 │ 2019-01-01 00:43:28 │\n",
       "│ 5      │ 21742447 │ 2019-01-01 00:14:52 │ 2019-01-01 00:20:56 │\n",
       "│ 6      │ 21742448 │ 2019-01-01 00:15:33 │ 2019-01-01 00:19:09 │\n",
       "│ 7      │ 21742449 │ 2019-01-01 00:16:06 │ 2019-01-01 00:19:03 │\n",
       "│ 8      │ 21742450 │ 2019-01-01 00:18:41 │ 2019-01-01 00:20:21 │\n",
       "│ 9      │ 21742451 │ 2019-01-01 00:18:43 │ 2019-01-01 00:47:30 │\n",
       "│ 10     │ 21742452 │ 2019-01-01 00:19:18 │ 2019-01-01 00:24:54 │\n",
       "⋮\n",
       "│ 365059 │ 22178517 │ 2019-03-31 23:32:54 │ 2019-03-31 23:37:50 │\n",
       "│ 365060 │ 22178518 │ 2019-03-31 23:33:02 │ 2019-03-31 23:43:15 │\n",
       "│ 365061 │ 22178519 │ 2019-03-31 23:33:14 │ 2019-03-31 23:37:40 │\n",
       "│ 365062 │ 22178520 │ 2019-03-31 23:34:08 │ 2019-03-31 23:38:07 │\n",
       "│ 365063 │ 22178521 │ 2019-03-31 23:39:48 │ 2019-03-31 23:41:41 │\n",
       "│ 365064 │ 22178522 │ 2019-03-31 23:47:05 │ 2019-03-31 23:51:35 │\n",
       "│ 365065 │ 22178524 │ 2019-03-31 23:51:32 │ 2019-04-01 00:04:09 │\n",
       "│ 365066 │ 22178525 │ 2019-03-31 23:52:37 │ 2019-03-31 23:58:09 │\n",
       "│ 365067 │ 22178526 │ 2019-03-31 23:52:38 │ 2019-04-01 00:06:44 │\n",
       "│ 365068 │ 22178527 │ 2019-03-31 23:53:08 │ 2019-03-31 23:56:06 │\n",
       "│ 365069 │ 22178528 │ 2019-03-31 23:53:48 │ 2019-04-01 00:01:16 │"
      ]
     },
     "execution_count": 13,
     "metadata": {},
     "output_type": "execute_result"
    }
   ],
   "source": [
    "select!(trips,  Not([:codigo_bike              \n",
    "                     :codigo_inicio             \n",
    "                     :estacao_inicio        \n",
    "                     :codigo_final     \n",
    "                     :estacao_final             \n",
    "                     ]))"
   ]
  },
  {
   "cell_type": "code",
   "execution_count": 14,
   "metadata": {},
   "outputs": [
    {
     "ename": "MethodError",
     "evalue": "MethodError: no method matching +(::String, ::String)\nClosest candidates are:\n  +(::Any, ::Any, !Matched::Any, !Matched::Any...) at operators.jl:529",
     "output_type": "error",
     "traceback": [
      "MethodError: no method matching +(::String, ::String)\nClosest candidates are:\n  +(::Any, ::Any, !Matched::Any, !Matched::Any...) at operators.jl:529",
      "",
      "Stacktrace:",
      " [1] add_sum(::String, ::String) at ./reduce.jl:21",
      " [2] mapreduce_impl(::typeof(identity), ::typeof(Base.add_sum), ::WeakRefStrings.StringArray{String,1}, ::Int64, ::Int64, ::Int64) at ./reduce.jl:238",
      " [3] mapreduce_impl(::typeof(identity), ::typeof(Base.add_sum), ::WeakRefStrings.StringArray{String,1}, ::Int64, ::Int64, ::Int64) at ./reduce.jl:247 (repeats 9 times)",
      " [4] mapreduce_impl at ./reduce.jl:253 [inlined]",
      " [5] _mapreduce(::typeof(identity), ::typeof(Base.add_sum), ::IndexLinear, ::WeakRefStrings.StringArray{String,1}) at ./reduce.jl:407",
      " [6] _mapreduce_dim at ./reducedim.jl:312 [inlined]",
      " [7] #mapreduce#580 at ./reducedim.jl:307 [inlined]",
      " [8] mapreduce at ./reducedim.jl:307 [inlined]",
      " [9] _sum at ./reducedim.jl:657 [inlined]",
      " [10] _sum at ./reducedim.jl:656 [inlined]",
      " [11] #sum#583 at ./reducedim.jl:652 [inlined]",
      " [12] sum at ./reducedim.jl:652 [inlined]",
      " [13] _mean(::WeakRefStrings.StringArray{String,1}, ::Colon) at /builddir/build/BUILD/julia/build/usr/share/julia/stdlib/v1.4/Statistics/src/Statistics.jl:160",
      " [14] mean(::WeakRefStrings.StringArray{String,1}; dims::Function) at /builddir/build/BUILD/julia/build/usr/share/julia/stdlib/v1.4/Statistics/src/Statistics.jl:157",
      " [15] mean(::WeakRefStrings.StringArray{String,1}) at /builddir/build/BUILD/julia/build/usr/share/julia/stdlib/v1.4/Statistics/src/Statistics.jl:157",
      " [16] top-level scope at In[14]:1"
     ]
    }
   ],
   "source": [
    "mean(trips.duracao_viagem)"
   ]
  },
  {
   "cell_type": "code",
   "execution_count": 15,
   "metadata": {},
   "outputs": [
    {
     "data": {
      "text/plain": [
       "365069-element Array{String,1}:\n",
       " \"390.0\"\n",
       " \"441.0\"\n",
       " \"829.0\"\n",
       " \"1783.0\"\n",
       " \"364.0\"\n",
       " \"216.0\"\n",
       " \"177.0\"\n",
       " \"100.0\"\n",
       " \"1727.0\"\n",
       " \"336.0\"\n",
       " \"886.0\"\n",
       " \"653.0\"\n",
       " \"601.0\"\n",
       " ⋮\n",
       " \"239.0\"\n",
       " \"296.0\"\n",
       " \"613.0\"\n",
       " \"266.0\"\n",
       " \"239.0\"\n",
       " \"113.0\"\n",
       " \"270.0\"\n",
       " \"757.0\"\n",
       " \"332.0\"\n",
       " \"846.0\"\n",
       " \"178.0\"\n",
       " \"448.0\""
      ]
     },
     "execution_count": 15,
     "metadata": {},
     "output_type": "execute_result"
    }
   ],
   "source": [
    "trips[!, :time] .= map(x -> replace(x, \",\" => \"\"), trips.duracao_viagem) "
   ]
  },
  {
   "cell_type": "code",
   "execution_count": 16,
   "metadata": {},
   "outputs": [
    {
     "data": {
      "text/plain": [
       "365069-element Array{Float64,1}:\n",
       "  390.0\n",
       "  441.0\n",
       "  829.0\n",
       " 1783.0\n",
       "  364.0\n",
       "  216.0\n",
       "  177.0\n",
       "  100.0\n",
       " 1727.0\n",
       "  336.0\n",
       "  886.0\n",
       "  653.0\n",
       "  601.0\n",
       "    ⋮\n",
       "  239.0\n",
       "  296.0\n",
       "  613.0\n",
       "  266.0\n",
       "  239.0\n",
       "  113.0\n",
       "  270.0\n",
       "  757.0\n",
       "  332.0\n",
       "  846.0\n",
       "  178.0\n",
       "  448.0"
      ]
     },
     "execution_count": 16,
     "metadata": {},
     "output_type": "execute_result"
    }
   ],
   "source": [
    "trips[!, :duracao] .= map(x -> parse(Float64,x),trips.time) "
   ]
  },
  {
   "cell_type": "code",
   "execution_count": 17,
   "metadata": {},
   "outputs": [
    {
     "data": {
      "text/plain": [
       "10-element Array{Type,1}:\n",
       " Int64\n",
       " String\n",
       " String\n",
       " String\n",
       " String\n",
       " Union{Missing, String}\n",
       " Union{Missing, Int64}\n",
       " String\n",
       " String\n",
       " Float64"
      ]
     },
     "execution_count": 17,
     "metadata": {},
     "output_type": "execute_result"
    }
   ],
   "source": [
    "eltype.(eachcol(trips))"
   ]
  },
  {
   "cell_type": "code",
   "execution_count": 18,
   "metadata": {},
   "outputs": [
    {
     "data": {
      "text/plain": [
       "16.93903389952767"
      ]
     },
     "execution_count": 18,
     "metadata": {},
     "output_type": "execute_result"
    }
   ],
   "source": [
    "mean(trips.duracao) / 60"
   ]
  },
  {
   "cell_type": "code",
   "execution_count": 19,
   "metadata": {},
   "outputs": [
    {
     "data": {
      "text/plain": [
       "3.7103497e8"
      ]
     },
     "execution_count": 19,
     "metadata": {},
     "output_type": "execute_result"
    }
   ],
   "source": [
    "sum(trips.duracao)"
   ]
  },
  {
   "cell_type": "code",
   "execution_count": 20,
   "metadata": {},
   "outputs": [
    {
     "data": {
      "text/html": [
       "<table class=\"data-frame\"><thead><tr><th></th><th>codigo</th><th>tempo_inicial</th><th>tempo_final</th><th>tipo_usuario</th><th>genero</th><th>ano_aniversario</th></tr><tr><th></th><th>Int64</th><th>String</th><th>String</th><th>String</th><th>String?</th><th>Int64?</th></tr></thead><tbody><p>365,069 rows × 8 columns (omitted printing of 2 columns)</p><tr><th>1</th><td>21742443</td><td>2019-01-01 00:04:37</td><td>2019-01-01 00:11:07</td><td>Subscriber</td><td>Male</td><td>1989</td></tr><tr><th>2</th><td>21742444</td><td>2019-01-01 00:08:13</td><td>2019-01-01 00:15:34</td><td>Subscriber</td><td>Female</td><td>1990</td></tr><tr><th>3</th><td>21742445</td><td>2019-01-01 00:13:23</td><td>2019-01-01 00:27:12</td><td>Subscriber</td><td>Female</td><td>1994</td></tr><tr><th>4</th><td>21742446</td><td>2019-01-01 00:13:45</td><td>2019-01-01 00:43:28</td><td>Subscriber</td><td>Male</td><td>1993</td></tr><tr><th>5</th><td>21742447</td><td>2019-01-01 00:14:52</td><td>2019-01-01 00:20:56</td><td>Subscriber</td><td>Male</td><td>1994</td></tr><tr><th>6</th><td>21742448</td><td>2019-01-01 00:15:33</td><td>2019-01-01 00:19:09</td><td>Subscriber</td><td>Female</td><td>1983</td></tr><tr><th>7</th><td>21742449</td><td>2019-01-01 00:16:06</td><td>2019-01-01 00:19:03</td><td>Subscriber</td><td>Male</td><td>1984</td></tr><tr><th>8</th><td>21742450</td><td>2019-01-01 00:18:41</td><td>2019-01-01 00:20:21</td><td>Subscriber</td><td>Male</td><td>1990</td></tr><tr><th>9</th><td>21742451</td><td>2019-01-01 00:18:43</td><td>2019-01-01 00:47:30</td><td>Subscriber</td><td>Male</td><td>1995</td></tr><tr><th>10</th><td>21742452</td><td>2019-01-01 00:19:18</td><td>2019-01-01 00:24:54</td><td>Subscriber</td><td>Male</td><td>1996</td></tr><tr><th>11</th><td>21742453</td><td>2019-01-01 00:20:34</td><td>2019-01-01 00:35:20</td><td>Subscriber</td><td>Male</td><td>1994</td></tr><tr><th>12</th><td>21742454</td><td>2019-01-01 00:21:52</td><td>2019-01-01 00:32:45</td><td>Subscriber</td><td>Female</td><td>1994</td></tr><tr><th>13</th><td>21742455</td><td>2019-01-01 00:23:04</td><td>2019-01-01 00:33:05</td><td>Subscriber</td><td>Male</td><td>1986</td></tr><tr><th>14</th><td>21742456</td><td>2019-01-01 00:23:43</td><td>2019-01-01 00:33:05</td><td>Customer</td><td>Female</td><td>1990</td></tr><tr><th>15</th><td>21742457</td><td>2019-01-01 00:23:54</td><td>2019-01-01 00:39:00</td><td>Subscriber</td><td>Female</td><td>1989</td></tr><tr><th>16</th><td>21742458</td><td>2019-01-01 00:24:08</td><td>2019-01-01 00:39:00</td><td>Subscriber</td><td>Female</td><td>1989</td></tr><tr><th>17</th><td>21742459</td><td>2019-01-01 00:24:13</td><td>2019-01-01 00:31:00</td><td>Subscriber</td><td>Male</td><td>1967</td></tr><tr><th>18</th><td>21742460</td><td>2019-01-01 00:24:27</td><td>2019-01-01 00:47:03</td><td>Customer</td><td>Female</td><td>1990</td></tr><tr><th>19</th><td>21742461</td><td>2019-01-01 00:25:28</td><td>2019-01-01 00:27:10</td><td>Subscriber</td><td>Male</td><td>1985</td></tr><tr><th>20</th><td>21742463</td><td>2019-01-01 00:29:19</td><td>2019-01-01 01:08:12</td><td>Customer</td><td><em>missing</em></td><td><em>missing</em></td></tr><tr><th>21</th><td>21742464</td><td>2019-01-01 00:29:21</td><td>2019-01-01 00:45:21</td><td>Subscriber</td><td>Male</td><td>1957</td></tr><tr><th>22</th><td>21742465</td><td>2019-01-01 00:29:28</td><td>2019-01-01 01:07:49</td><td>Customer</td><td><em>missing</em></td><td><em>missing</em></td></tr><tr><th>23</th><td>21742466</td><td>2019-01-01 00:29:47</td><td>2019-01-01 00:49:15</td><td>Subscriber</td><td>Male</td><td>1959</td></tr><tr><th>24</th><td>21742467</td><td>2019-01-01 00:30:48</td><td>2019-01-01 00:38:42</td><td>Subscriber</td><td>Male</td><td>1994</td></tr><tr><th>25</th><td>21742468</td><td>2019-01-01 00:33:09</td><td>2019-01-01 00:50:25</td><td>Subscriber</td><td>Male</td><td>1991</td></tr><tr><th>26</th><td>21742469</td><td>2019-01-01 00:34:35</td><td>2019-01-01 00:38:25</td><td>Subscriber</td><td>Male</td><td>1961</td></tr><tr><th>27</th><td>21742471</td><td>2019-01-01 00:38:11</td><td>2019-01-01 00:50:38</td><td>Subscriber</td><td>Male</td><td>1968</td></tr><tr><th>28</th><td>21742472</td><td>2019-01-01 00:38:47</td><td>2019-01-01 00:50:38</td><td>Subscriber</td><td>Male</td><td>1964</td></tr><tr><th>29</th><td>21742473</td><td>2019-01-01 00:40:16</td><td>2019-01-01 00:49:29</td><td>Subscriber</td><td>Male</td><td>1990</td></tr><tr><th>30</th><td>21742474</td><td>2019-01-01 00:41:46</td><td>2019-01-01 00:50:27</td><td>Subscriber</td><td>Male</td><td>1994</td></tr><tr><th>&vellip;</th><td>&vellip;</td><td>&vellip;</td><td>&vellip;</td><td>&vellip;</td><td>&vellip;</td><td>&vellip;</td></tr></tbody></table>"
      ],
      "text/latex": [
       "\\begin{tabular}{r|ccccccc}\n",
       "\t& codigo & tempo\\_inicial & tempo\\_final & tipo\\_usuario & genero & ano\\_aniversario & \\\\\n",
       "\t\\hline\n",
       "\t& Int64 & String & String & String & String? & Int64? & \\\\\n",
       "\t\\hline\n",
       "\t1 & 21742443 & 2019-01-01 00:04:37 & 2019-01-01 00:11:07 & Subscriber & Male & 1989 & $\\dots$ \\\\\n",
       "\t2 & 21742444 & 2019-01-01 00:08:13 & 2019-01-01 00:15:34 & Subscriber & Female & 1990 & $\\dots$ \\\\\n",
       "\t3 & 21742445 & 2019-01-01 00:13:23 & 2019-01-01 00:27:12 & Subscriber & Female & 1994 & $\\dots$ \\\\\n",
       "\t4 & 21742446 & 2019-01-01 00:13:45 & 2019-01-01 00:43:28 & Subscriber & Male & 1993 & $\\dots$ \\\\\n",
       "\t5 & 21742447 & 2019-01-01 00:14:52 & 2019-01-01 00:20:56 & Subscriber & Male & 1994 & $\\dots$ \\\\\n",
       "\t6 & 21742448 & 2019-01-01 00:15:33 & 2019-01-01 00:19:09 & Subscriber & Female & 1983 & $\\dots$ \\\\\n",
       "\t7 & 21742449 & 2019-01-01 00:16:06 & 2019-01-01 00:19:03 & Subscriber & Male & 1984 & $\\dots$ \\\\\n",
       "\t8 & 21742450 & 2019-01-01 00:18:41 & 2019-01-01 00:20:21 & Subscriber & Male & 1990 & $\\dots$ \\\\\n",
       "\t9 & 21742451 & 2019-01-01 00:18:43 & 2019-01-01 00:47:30 & Subscriber & Male & 1995 & $\\dots$ \\\\\n",
       "\t10 & 21742452 & 2019-01-01 00:19:18 & 2019-01-01 00:24:54 & Subscriber & Male & 1996 & $\\dots$ \\\\\n",
       "\t11 & 21742453 & 2019-01-01 00:20:34 & 2019-01-01 00:35:20 & Subscriber & Male & 1994 & $\\dots$ \\\\\n",
       "\t12 & 21742454 & 2019-01-01 00:21:52 & 2019-01-01 00:32:45 & Subscriber & Female & 1994 & $\\dots$ \\\\\n",
       "\t13 & 21742455 & 2019-01-01 00:23:04 & 2019-01-01 00:33:05 & Subscriber & Male & 1986 & $\\dots$ \\\\\n",
       "\t14 & 21742456 & 2019-01-01 00:23:43 & 2019-01-01 00:33:05 & Customer & Female & 1990 & $\\dots$ \\\\\n",
       "\t15 & 21742457 & 2019-01-01 00:23:54 & 2019-01-01 00:39:00 & Subscriber & Female & 1989 & $\\dots$ \\\\\n",
       "\t16 & 21742458 & 2019-01-01 00:24:08 & 2019-01-01 00:39:00 & Subscriber & Female & 1989 & $\\dots$ \\\\\n",
       "\t17 & 21742459 & 2019-01-01 00:24:13 & 2019-01-01 00:31:00 & Subscriber & Male & 1967 & $\\dots$ \\\\\n",
       "\t18 & 21742460 & 2019-01-01 00:24:27 & 2019-01-01 00:47:03 & Customer & Female & 1990 & $\\dots$ \\\\\n",
       "\t19 & 21742461 & 2019-01-01 00:25:28 & 2019-01-01 00:27:10 & Subscriber & Male & 1985 & $\\dots$ \\\\\n",
       "\t20 & 21742463 & 2019-01-01 00:29:19 & 2019-01-01 01:08:12 & Customer & \\emph{missing} & \\emph{missing} & $\\dots$ \\\\\n",
       "\t21 & 21742464 & 2019-01-01 00:29:21 & 2019-01-01 00:45:21 & Subscriber & Male & 1957 & $\\dots$ \\\\\n",
       "\t22 & 21742465 & 2019-01-01 00:29:28 & 2019-01-01 01:07:49 & Customer & \\emph{missing} & \\emph{missing} & $\\dots$ \\\\\n",
       "\t23 & 21742466 & 2019-01-01 00:29:47 & 2019-01-01 00:49:15 & Subscriber & Male & 1959 & $\\dots$ \\\\\n",
       "\t24 & 21742467 & 2019-01-01 00:30:48 & 2019-01-01 00:38:42 & Subscriber & Male & 1994 & $\\dots$ \\\\\n",
       "\t25 & 21742468 & 2019-01-01 00:33:09 & 2019-01-01 00:50:25 & Subscriber & Male & 1991 & $\\dots$ \\\\\n",
       "\t26 & 21742469 & 2019-01-01 00:34:35 & 2019-01-01 00:38:25 & Subscriber & Male & 1961 & $\\dots$ \\\\\n",
       "\t27 & 21742471 & 2019-01-01 00:38:11 & 2019-01-01 00:50:38 & Subscriber & Male & 1968 & $\\dots$ \\\\\n",
       "\t28 & 21742472 & 2019-01-01 00:38:47 & 2019-01-01 00:50:38 & Subscriber & Male & 1964 & $\\dots$ \\\\\n",
       "\t29 & 21742473 & 2019-01-01 00:40:16 & 2019-01-01 00:49:29 & Subscriber & Male & 1990 & $\\dots$ \\\\\n",
       "\t30 & 21742474 & 2019-01-01 00:41:46 & 2019-01-01 00:50:27 & Subscriber & Male & 1994 & $\\dots$ \\\\\n",
       "\t$\\dots$ & $\\dots$ & $\\dots$ & $\\dots$ & $\\dots$ & $\\dots$ & $\\dots$ &  \\\\\n",
       "\\end{tabular}\n"
      ],
      "text/plain": [
       "365069×8 DataFrame. Omitted printing of 4 columns\n",
       "│ Row    │ codigo   │ tempo_inicial       │ tempo_final         │ tipo_usuario │\n",
       "│        │ \u001b[90mInt64\u001b[39m    │ \u001b[90mString\u001b[39m              │ \u001b[90mString\u001b[39m              │ \u001b[90mString\u001b[39m       │\n",
       "├────────┼──────────┼─────────────────────┼─────────────────────┼──────────────┤\n",
       "│ 1      │ 21742443 │ 2019-01-01 00:04:37 │ 2019-01-01 00:11:07 │ Subscriber   │\n",
       "│ 2      │ 21742444 │ 2019-01-01 00:08:13 │ 2019-01-01 00:15:34 │ Subscriber   │\n",
       "│ 3      │ 21742445 │ 2019-01-01 00:13:23 │ 2019-01-01 00:27:12 │ Subscriber   │\n",
       "│ 4      │ 21742446 │ 2019-01-01 00:13:45 │ 2019-01-01 00:43:28 │ Subscriber   │\n",
       "│ 5      │ 21742447 │ 2019-01-01 00:14:52 │ 2019-01-01 00:20:56 │ Subscriber   │\n",
       "│ 6      │ 21742448 │ 2019-01-01 00:15:33 │ 2019-01-01 00:19:09 │ Subscriber   │\n",
       "│ 7      │ 21742449 │ 2019-01-01 00:16:06 │ 2019-01-01 00:19:03 │ Subscriber   │\n",
       "│ 8      │ 21742450 │ 2019-01-01 00:18:41 │ 2019-01-01 00:20:21 │ Subscriber   │\n",
       "│ 9      │ 21742451 │ 2019-01-01 00:18:43 │ 2019-01-01 00:47:30 │ Subscriber   │\n",
       "│ 10     │ 21742452 │ 2019-01-01 00:19:18 │ 2019-01-01 00:24:54 │ Subscriber   │\n",
       "⋮\n",
       "│ 365059 │ 22178517 │ 2019-03-31 23:32:54 │ 2019-03-31 23:37:50 │ Customer     │\n",
       "│ 365060 │ 22178518 │ 2019-03-31 23:33:02 │ 2019-03-31 23:43:15 │ Subscriber   │\n",
       "│ 365061 │ 22178519 │ 2019-03-31 23:33:14 │ 2019-03-31 23:37:40 │ Customer     │\n",
       "│ 365062 │ 22178520 │ 2019-03-31 23:34:08 │ 2019-03-31 23:38:07 │ Subscriber   │\n",
       "│ 365063 │ 22178521 │ 2019-03-31 23:39:48 │ 2019-03-31 23:41:41 │ Subscriber   │\n",
       "│ 365064 │ 22178522 │ 2019-03-31 23:47:05 │ 2019-03-31 23:51:35 │ Subscriber   │\n",
       "│ 365065 │ 22178524 │ 2019-03-31 23:51:32 │ 2019-04-01 00:04:09 │ Subscriber   │\n",
       "│ 365066 │ 22178525 │ 2019-03-31 23:52:37 │ 2019-03-31 23:58:09 │ Subscriber   │\n",
       "│ 365067 │ 22178526 │ 2019-03-31 23:52:38 │ 2019-04-01 00:06:44 │ Subscriber   │\n",
       "│ 365068 │ 22178527 │ 2019-03-31 23:53:08 │ 2019-03-31 23:56:06 │ Subscriber   │\n",
       "│ 365069 │ 22178528 │ 2019-03-31 23:53:48 │ 2019-04-01 00:01:16 │ Subscriber   │"
      ]
     },
     "execution_count": 20,
     "metadata": {},
     "output_type": "execute_result"
    }
   ],
   "source": [
    "select!(trips,  Not([:duracao_viagem              \n",
    "                     :time             \n",
    "                     ]))"
   ]
  },
  {
   "cell_type": "code",
   "execution_count": 21,
   "metadata": {},
   "outputs": [
    {
     "data": {
      "text/html": [
       "<table class=\"data-frame\"><thead><tr><th></th><th>codigo</th><th>tempo_inicial</th><th>tempo_final</th><th>tipo_usuario</th><th>genero</th><th>ano_aniversario</th></tr><tr><th></th><th>Int64</th><th>String</th><th>String</th><th>String</th><th>String?</th><th>Int64?</th></tr></thead><tbody><p>365,069 rows × 8 columns (omitted printing of 2 columns)</p><tr><th>1</th><td>21742443</td><td>2019-01-01 00:04:37</td><td>2019-01-01 00:11:07</td><td>Subscriber</td><td>Male</td><td>1989</td></tr><tr><th>2</th><td>21742444</td><td>2019-01-01 00:08:13</td><td>2019-01-01 00:15:34</td><td>Subscriber</td><td>Female</td><td>1990</td></tr><tr><th>3</th><td>21742445</td><td>2019-01-01 00:13:23</td><td>2019-01-01 00:27:12</td><td>Subscriber</td><td>Female</td><td>1994</td></tr><tr><th>4</th><td>21742446</td><td>2019-01-01 00:13:45</td><td>2019-01-01 00:43:28</td><td>Subscriber</td><td>Male</td><td>1993</td></tr><tr><th>5</th><td>21742447</td><td>2019-01-01 00:14:52</td><td>2019-01-01 00:20:56</td><td>Subscriber</td><td>Male</td><td>1994</td></tr><tr><th>6</th><td>21742448</td><td>2019-01-01 00:15:33</td><td>2019-01-01 00:19:09</td><td>Subscriber</td><td>Female</td><td>1983</td></tr><tr><th>7</th><td>21742449</td><td>2019-01-01 00:16:06</td><td>2019-01-01 00:19:03</td><td>Subscriber</td><td>Male</td><td>1984</td></tr><tr><th>8</th><td>21742450</td><td>2019-01-01 00:18:41</td><td>2019-01-01 00:20:21</td><td>Subscriber</td><td>Male</td><td>1990</td></tr><tr><th>9</th><td>21742451</td><td>2019-01-01 00:18:43</td><td>2019-01-01 00:47:30</td><td>Subscriber</td><td>Male</td><td>1995</td></tr><tr><th>10</th><td>21742452</td><td>2019-01-01 00:19:18</td><td>2019-01-01 00:24:54</td><td>Subscriber</td><td>Male</td><td>1996</td></tr><tr><th>11</th><td>21742453</td><td>2019-01-01 00:20:34</td><td>2019-01-01 00:35:20</td><td>Subscriber</td><td>Male</td><td>1994</td></tr><tr><th>12</th><td>21742454</td><td>2019-01-01 00:21:52</td><td>2019-01-01 00:32:45</td><td>Subscriber</td><td>Female</td><td>1994</td></tr><tr><th>13</th><td>21742455</td><td>2019-01-01 00:23:04</td><td>2019-01-01 00:33:05</td><td>Subscriber</td><td>Male</td><td>1986</td></tr><tr><th>14</th><td>21742456</td><td>2019-01-01 00:23:43</td><td>2019-01-01 00:33:05</td><td>Customer</td><td>Female</td><td>1990</td></tr><tr><th>15</th><td>21742457</td><td>2019-01-01 00:23:54</td><td>2019-01-01 00:39:00</td><td>Subscriber</td><td>Female</td><td>1989</td></tr><tr><th>16</th><td>21742458</td><td>2019-01-01 00:24:08</td><td>2019-01-01 00:39:00</td><td>Subscriber</td><td>Female</td><td>1989</td></tr><tr><th>17</th><td>21742459</td><td>2019-01-01 00:24:13</td><td>2019-01-01 00:31:00</td><td>Subscriber</td><td>Male</td><td>1967</td></tr><tr><th>18</th><td>21742460</td><td>2019-01-01 00:24:27</td><td>2019-01-01 00:47:03</td><td>Customer</td><td>Female</td><td>1990</td></tr><tr><th>19</th><td>21742461</td><td>2019-01-01 00:25:28</td><td>2019-01-01 00:27:10</td><td>Subscriber</td><td>Male</td><td>1985</td></tr><tr><th>20</th><td>21742463</td><td>2019-01-01 00:29:19</td><td>2019-01-01 01:08:12</td><td>Customer</td><td><em>missing</em></td><td><em>missing</em></td></tr><tr><th>21</th><td>21742464</td><td>2019-01-01 00:29:21</td><td>2019-01-01 00:45:21</td><td>Subscriber</td><td>Male</td><td>1957</td></tr><tr><th>22</th><td>21742465</td><td>2019-01-01 00:29:28</td><td>2019-01-01 01:07:49</td><td>Customer</td><td><em>missing</em></td><td><em>missing</em></td></tr><tr><th>23</th><td>21742466</td><td>2019-01-01 00:29:47</td><td>2019-01-01 00:49:15</td><td>Subscriber</td><td>Male</td><td>1959</td></tr><tr><th>24</th><td>21742467</td><td>2019-01-01 00:30:48</td><td>2019-01-01 00:38:42</td><td>Subscriber</td><td>Male</td><td>1994</td></tr><tr><th>25</th><td>21742468</td><td>2019-01-01 00:33:09</td><td>2019-01-01 00:50:25</td><td>Subscriber</td><td>Male</td><td>1991</td></tr><tr><th>26</th><td>21742469</td><td>2019-01-01 00:34:35</td><td>2019-01-01 00:38:25</td><td>Subscriber</td><td>Male</td><td>1961</td></tr><tr><th>27</th><td>21742471</td><td>2019-01-01 00:38:11</td><td>2019-01-01 00:50:38</td><td>Subscriber</td><td>Male</td><td>1968</td></tr><tr><th>28</th><td>21742472</td><td>2019-01-01 00:38:47</td><td>2019-01-01 00:50:38</td><td>Subscriber</td><td>Male</td><td>1964</td></tr><tr><th>29</th><td>21742473</td><td>2019-01-01 00:40:16</td><td>2019-01-01 00:49:29</td><td>Subscriber</td><td>Male</td><td>1990</td></tr><tr><th>30</th><td>21742474</td><td>2019-01-01 00:41:46</td><td>2019-01-01 00:50:27</td><td>Subscriber</td><td>Male</td><td>1994</td></tr><tr><th>&vellip;</th><td>&vellip;</td><td>&vellip;</td><td>&vellip;</td><td>&vellip;</td><td>&vellip;</td><td>&vellip;</td></tr></tbody></table>"
      ],
      "text/latex": [
       "\\begin{tabular}{r|ccccccc}\n",
       "\t& codigo & tempo\\_inicial & tempo\\_final & tipo\\_usuario & genero & ano\\_aniversario & \\\\\n",
       "\t\\hline\n",
       "\t& Int64 & String & String & String & String? & Int64? & \\\\\n",
       "\t\\hline\n",
       "\t1 & 21742443 & 2019-01-01 00:04:37 & 2019-01-01 00:11:07 & Subscriber & Male & 1989 & $\\dots$ \\\\\n",
       "\t2 & 21742444 & 2019-01-01 00:08:13 & 2019-01-01 00:15:34 & Subscriber & Female & 1990 & $\\dots$ \\\\\n",
       "\t3 & 21742445 & 2019-01-01 00:13:23 & 2019-01-01 00:27:12 & Subscriber & Female & 1994 & $\\dots$ \\\\\n",
       "\t4 & 21742446 & 2019-01-01 00:13:45 & 2019-01-01 00:43:28 & Subscriber & Male & 1993 & $\\dots$ \\\\\n",
       "\t5 & 21742447 & 2019-01-01 00:14:52 & 2019-01-01 00:20:56 & Subscriber & Male & 1994 & $\\dots$ \\\\\n",
       "\t6 & 21742448 & 2019-01-01 00:15:33 & 2019-01-01 00:19:09 & Subscriber & Female & 1983 & $\\dots$ \\\\\n",
       "\t7 & 21742449 & 2019-01-01 00:16:06 & 2019-01-01 00:19:03 & Subscriber & Male & 1984 & $\\dots$ \\\\\n",
       "\t8 & 21742450 & 2019-01-01 00:18:41 & 2019-01-01 00:20:21 & Subscriber & Male & 1990 & $\\dots$ \\\\\n",
       "\t9 & 21742451 & 2019-01-01 00:18:43 & 2019-01-01 00:47:30 & Subscriber & Male & 1995 & $\\dots$ \\\\\n",
       "\t10 & 21742452 & 2019-01-01 00:19:18 & 2019-01-01 00:24:54 & Subscriber & Male & 1996 & $\\dots$ \\\\\n",
       "\t11 & 21742453 & 2019-01-01 00:20:34 & 2019-01-01 00:35:20 & Subscriber & Male & 1994 & $\\dots$ \\\\\n",
       "\t12 & 21742454 & 2019-01-01 00:21:52 & 2019-01-01 00:32:45 & Subscriber & Female & 1994 & $\\dots$ \\\\\n",
       "\t13 & 21742455 & 2019-01-01 00:23:04 & 2019-01-01 00:33:05 & Subscriber & Male & 1986 & $\\dots$ \\\\\n",
       "\t14 & 21742456 & 2019-01-01 00:23:43 & 2019-01-01 00:33:05 & Customer & Female & 1990 & $\\dots$ \\\\\n",
       "\t15 & 21742457 & 2019-01-01 00:23:54 & 2019-01-01 00:39:00 & Subscriber & Female & 1989 & $\\dots$ \\\\\n",
       "\t16 & 21742458 & 2019-01-01 00:24:08 & 2019-01-01 00:39:00 & Subscriber & Female & 1989 & $\\dots$ \\\\\n",
       "\t17 & 21742459 & 2019-01-01 00:24:13 & 2019-01-01 00:31:00 & Subscriber & Male & 1967 & $\\dots$ \\\\\n",
       "\t18 & 21742460 & 2019-01-01 00:24:27 & 2019-01-01 00:47:03 & Customer & Female & 1990 & $\\dots$ \\\\\n",
       "\t19 & 21742461 & 2019-01-01 00:25:28 & 2019-01-01 00:27:10 & Subscriber & Male & 1985 & $\\dots$ \\\\\n",
       "\t20 & 21742463 & 2019-01-01 00:29:19 & 2019-01-01 01:08:12 & Customer & \\emph{missing} & \\emph{missing} & $\\dots$ \\\\\n",
       "\t21 & 21742464 & 2019-01-01 00:29:21 & 2019-01-01 00:45:21 & Subscriber & Male & 1957 & $\\dots$ \\\\\n",
       "\t22 & 21742465 & 2019-01-01 00:29:28 & 2019-01-01 01:07:49 & Customer & \\emph{missing} & \\emph{missing} & $\\dots$ \\\\\n",
       "\t23 & 21742466 & 2019-01-01 00:29:47 & 2019-01-01 00:49:15 & Subscriber & Male & 1959 & $\\dots$ \\\\\n",
       "\t24 & 21742467 & 2019-01-01 00:30:48 & 2019-01-01 00:38:42 & Subscriber & Male & 1994 & $\\dots$ \\\\\n",
       "\t25 & 21742468 & 2019-01-01 00:33:09 & 2019-01-01 00:50:25 & Subscriber & Male & 1991 & $\\dots$ \\\\\n",
       "\t26 & 21742469 & 2019-01-01 00:34:35 & 2019-01-01 00:38:25 & Subscriber & Male & 1961 & $\\dots$ \\\\\n",
       "\t27 & 21742471 & 2019-01-01 00:38:11 & 2019-01-01 00:50:38 & Subscriber & Male & 1968 & $\\dots$ \\\\\n",
       "\t28 & 21742472 & 2019-01-01 00:38:47 & 2019-01-01 00:50:38 & Subscriber & Male & 1964 & $\\dots$ \\\\\n",
       "\t29 & 21742473 & 2019-01-01 00:40:16 & 2019-01-01 00:49:29 & Subscriber & Male & 1990 & $\\dots$ \\\\\n",
       "\t30 & 21742474 & 2019-01-01 00:41:46 & 2019-01-01 00:50:27 & Subscriber & Male & 1994 & $\\dots$ \\\\\n",
       "\t$\\dots$ & $\\dots$ & $\\dots$ & $\\dots$ & $\\dots$ & $\\dots$ & $\\dots$ &  \\\\\n",
       "\\end{tabular}\n"
      ],
      "text/plain": [
       "365069×8 DataFrame. Omitted printing of 4 columns\n",
       "│ Row    │ codigo   │ tempo_inicial       │ tempo_final         │ tipo_usuario │\n",
       "│        │ \u001b[90mInt64\u001b[39m    │ \u001b[90mString\u001b[39m              │ \u001b[90mString\u001b[39m              │ \u001b[90mString\u001b[39m       │\n",
       "├────────┼──────────┼─────────────────────┼─────────────────────┼──────────────┤\n",
       "│ 1      │ 21742443 │ 2019-01-01 00:04:37 │ 2019-01-01 00:11:07 │ Subscriber   │\n",
       "│ 2      │ 21742444 │ 2019-01-01 00:08:13 │ 2019-01-01 00:15:34 │ Subscriber   │\n",
       "│ 3      │ 21742445 │ 2019-01-01 00:13:23 │ 2019-01-01 00:27:12 │ Subscriber   │\n",
       "│ 4      │ 21742446 │ 2019-01-01 00:13:45 │ 2019-01-01 00:43:28 │ Subscriber   │\n",
       "│ 5      │ 21742447 │ 2019-01-01 00:14:52 │ 2019-01-01 00:20:56 │ Subscriber   │\n",
       "│ 6      │ 21742448 │ 2019-01-01 00:15:33 │ 2019-01-01 00:19:09 │ Subscriber   │\n",
       "│ 7      │ 21742449 │ 2019-01-01 00:16:06 │ 2019-01-01 00:19:03 │ Subscriber   │\n",
       "│ 8      │ 21742450 │ 2019-01-01 00:18:41 │ 2019-01-01 00:20:21 │ Subscriber   │\n",
       "│ 9      │ 21742451 │ 2019-01-01 00:18:43 │ 2019-01-01 00:47:30 │ Subscriber   │\n",
       "│ 10     │ 21742452 │ 2019-01-01 00:19:18 │ 2019-01-01 00:24:54 │ Subscriber   │\n",
       "⋮\n",
       "│ 365059 │ 22178517 │ 2019-03-31 23:32:54 │ 2019-03-31 23:37:50 │ Customer     │\n",
       "│ 365060 │ 22178518 │ 2019-03-31 23:33:02 │ 2019-03-31 23:43:15 │ Subscriber   │\n",
       "│ 365061 │ 22178519 │ 2019-03-31 23:33:14 │ 2019-03-31 23:37:40 │ Customer     │\n",
       "│ 365062 │ 22178520 │ 2019-03-31 23:34:08 │ 2019-03-31 23:38:07 │ Subscriber   │\n",
       "│ 365063 │ 22178521 │ 2019-03-31 23:39:48 │ 2019-03-31 23:41:41 │ Subscriber   │\n",
       "│ 365064 │ 22178522 │ 2019-03-31 23:47:05 │ 2019-03-31 23:51:35 │ Subscriber   │\n",
       "│ 365065 │ 22178524 │ 2019-03-31 23:51:32 │ 2019-04-01 00:04:09 │ Subscriber   │\n",
       "│ 365066 │ 22178525 │ 2019-03-31 23:52:37 │ 2019-03-31 23:58:09 │ Subscriber   │\n",
       "│ 365067 │ 22178526 │ 2019-03-31 23:52:38 │ 2019-04-01 00:06:44 │ Subscriber   │\n",
       "│ 365068 │ 22178527 │ 2019-03-31 23:53:08 │ 2019-03-31 23:56:06 │ Subscriber   │\n",
       "│ 365069 │ 22178528 │ 2019-03-31 23:53:48 │ 2019-04-01 00:01:16 │ Subscriber   │"
      ]
     },
     "execution_count": 21,
     "metadata": {},
     "output_type": "execute_result"
    }
   ],
   "source": [
    "sort!(trips, :codigo)"
   ]
  },
  {
   "cell_type": "code",
   "execution_count": 22,
   "metadata": {},
   "outputs": [
    {
     "data": {
      "text/html": [
       "<table class=\"data-frame\"><thead><tr><th></th><th>genero</th><th>duracao</th></tr><tr><th></th><th>String?</th><th>Float64</th></tr></thead><tbody><p>365,069 rows × 2 columns</p><tr><th>1</th><td>Male</td><td>390.0</td></tr><tr><th>2</th><td>Female</td><td>441.0</td></tr><tr><th>3</th><td>Female</td><td>829.0</td></tr><tr><th>4</th><td>Male</td><td>1783.0</td></tr><tr><th>5</th><td>Male</td><td>364.0</td></tr><tr><th>6</th><td>Female</td><td>216.0</td></tr><tr><th>7</th><td>Male</td><td>177.0</td></tr><tr><th>8</th><td>Male</td><td>100.0</td></tr><tr><th>9</th><td>Male</td><td>1727.0</td></tr><tr><th>10</th><td>Male</td><td>336.0</td></tr><tr><th>11</th><td>Male</td><td>886.0</td></tr><tr><th>12</th><td>Female</td><td>653.0</td></tr><tr><th>13</th><td>Male</td><td>601.0</td></tr><tr><th>14</th><td>Female</td><td>562.0</td></tr><tr><th>15</th><td>Female</td><td>906.0</td></tr><tr><th>16</th><td>Female</td><td>892.0</td></tr><tr><th>17</th><td>Male</td><td>407.0</td></tr><tr><th>18</th><td>Female</td><td>1356.0</td></tr><tr><th>19</th><td>Male</td><td>102.0</td></tr><tr><th>20</th><td><em>missing</em></td><td>2333.0</td></tr><tr><th>21</th><td>Male</td><td>960.0</td></tr><tr><th>22</th><td><em>missing</em></td><td>2301.0</td></tr><tr><th>23</th><td>Male</td><td>1168.0</td></tr><tr><th>24</th><td>Male</td><td>474.0</td></tr><tr><th>25</th><td>Male</td><td>1036.0</td></tr><tr><th>26</th><td>Male</td><td>230.0</td></tr><tr><th>27</th><td>Male</td><td>747.0</td></tr><tr><th>28</th><td>Male</td><td>711.0</td></tr><tr><th>29</th><td>Male</td><td>553.0</td></tr><tr><th>30</th><td>Male</td><td>521.0</td></tr><tr><th>&vellip;</th><td>&vellip;</td><td>&vellip;</td></tr></tbody></table>"
      ],
      "text/latex": [
       "\\begin{tabular}{r|cc}\n",
       "\t& genero & duracao\\\\\n",
       "\t\\hline\n",
       "\t& String? & Float64\\\\\n",
       "\t\\hline\n",
       "\t1 & Male & 390.0 \\\\\n",
       "\t2 & Female & 441.0 \\\\\n",
       "\t3 & Female & 829.0 \\\\\n",
       "\t4 & Male & 1783.0 \\\\\n",
       "\t5 & Male & 364.0 \\\\\n",
       "\t6 & Female & 216.0 \\\\\n",
       "\t7 & Male & 177.0 \\\\\n",
       "\t8 & Male & 100.0 \\\\\n",
       "\t9 & Male & 1727.0 \\\\\n",
       "\t10 & Male & 336.0 \\\\\n",
       "\t11 & Male & 886.0 \\\\\n",
       "\t12 & Female & 653.0 \\\\\n",
       "\t13 & Male & 601.0 \\\\\n",
       "\t14 & Female & 562.0 \\\\\n",
       "\t15 & Female & 906.0 \\\\\n",
       "\t16 & Female & 892.0 \\\\\n",
       "\t17 & Male & 407.0 \\\\\n",
       "\t18 & Female & 1356.0 \\\\\n",
       "\t19 & Male & 102.0 \\\\\n",
       "\t20 & \\emph{missing} & 2333.0 \\\\\n",
       "\t21 & Male & 960.0 \\\\\n",
       "\t22 & \\emph{missing} & 2301.0 \\\\\n",
       "\t23 & Male & 1168.0 \\\\\n",
       "\t24 & Male & 474.0 \\\\\n",
       "\t25 & Male & 1036.0 \\\\\n",
       "\t26 & Male & 230.0 \\\\\n",
       "\t27 & Male & 747.0 \\\\\n",
       "\t28 & Male & 711.0 \\\\\n",
       "\t29 & Male & 553.0 \\\\\n",
       "\t30 & Male & 521.0 \\\\\n",
       "\t$\\dots$ & $\\dots$ & $\\dots$ \\\\\n",
       "\\end{tabular}\n"
      ],
      "text/plain": [
       "365069×2 DataFrame\n",
       "│ Row    │ genero  │ duracao │\n",
       "│        │ \u001b[90mString?\u001b[39m │ \u001b[90mFloat64\u001b[39m │\n",
       "├────────┼─────────┼─────────┤\n",
       "│ 1      │ Male    │ 390.0   │\n",
       "│ 2      │ Female  │ 441.0   │\n",
       "│ 3      │ Female  │ 829.0   │\n",
       "│ 4      │ Male    │ 1783.0  │\n",
       "│ 5      │ Male    │ 364.0   │\n",
       "│ 6      │ Female  │ 216.0   │\n",
       "│ 7      │ Male    │ 177.0   │\n",
       "│ 8      │ Male    │ 100.0   │\n",
       "│ 9      │ Male    │ 1727.0  │\n",
       "│ 10     │ Male    │ 336.0   │\n",
       "⋮\n",
       "│ 365059 │ \u001b[90mmissing\u001b[39m │ 296.0   │\n",
       "│ 365060 │ Male    │ 613.0   │\n",
       "│ 365061 │ \u001b[90mmissing\u001b[39m │ 266.0   │\n",
       "│ 365062 │ Female  │ 239.0   │\n",
       "│ 365063 │ Male    │ 113.0   │\n",
       "│ 365064 │ Male    │ 270.0   │\n",
       "│ 365065 │ Male    │ 757.0   │\n",
       "│ 365066 │ Male    │ 332.0   │\n",
       "│ 365067 │ Male    │ 846.0   │\n",
       "│ 365068 │ Male    │ 178.0   │\n",
       "│ 365069 │ Male    │ 448.0   │"
      ]
     },
     "execution_count": 22,
     "metadata": {},
     "output_type": "execute_result"
    }
   ],
   "source": [
    "trips[:, [:genero, :duracao]]"
   ]
  },
  {
   "cell_type": "code",
   "execution_count": 23,
   "metadata": {},
   "outputs": [
    {
     "data": {
      "text/html": [
       "<table class=\"data-frame\"><thead><tr><th></th><th>codigo</th><th>tempo_inicial</th><th>tempo_final</th><th>tipo_usuario</th><th>genero</th><th>ano_aniversario</th></tr><tr><th></th><th>Int64</th><th>String</th><th>String</th><th>String</th><th>String</th><th>Int64</th></tr></thead><tbody><p>345,357 rows × 8 columns (omitted printing of 2 columns)</p><tr><th>1</th><td>21742443</td><td>2019-01-01 00:04:37</td><td>2019-01-01 00:11:07</td><td>Subscriber</td><td>Male</td><td>1989</td></tr><tr><th>2</th><td>21742444</td><td>2019-01-01 00:08:13</td><td>2019-01-01 00:15:34</td><td>Subscriber</td><td>Female</td><td>1990</td></tr><tr><th>3</th><td>21742445</td><td>2019-01-01 00:13:23</td><td>2019-01-01 00:27:12</td><td>Subscriber</td><td>Female</td><td>1994</td></tr><tr><th>4</th><td>21742446</td><td>2019-01-01 00:13:45</td><td>2019-01-01 00:43:28</td><td>Subscriber</td><td>Male</td><td>1993</td></tr><tr><th>5</th><td>21742447</td><td>2019-01-01 00:14:52</td><td>2019-01-01 00:20:56</td><td>Subscriber</td><td>Male</td><td>1994</td></tr><tr><th>6</th><td>21742448</td><td>2019-01-01 00:15:33</td><td>2019-01-01 00:19:09</td><td>Subscriber</td><td>Female</td><td>1983</td></tr><tr><th>7</th><td>21742449</td><td>2019-01-01 00:16:06</td><td>2019-01-01 00:19:03</td><td>Subscriber</td><td>Male</td><td>1984</td></tr><tr><th>8</th><td>21742450</td><td>2019-01-01 00:18:41</td><td>2019-01-01 00:20:21</td><td>Subscriber</td><td>Male</td><td>1990</td></tr><tr><th>9</th><td>21742451</td><td>2019-01-01 00:18:43</td><td>2019-01-01 00:47:30</td><td>Subscriber</td><td>Male</td><td>1995</td></tr><tr><th>10</th><td>21742452</td><td>2019-01-01 00:19:18</td><td>2019-01-01 00:24:54</td><td>Subscriber</td><td>Male</td><td>1996</td></tr><tr><th>11</th><td>21742453</td><td>2019-01-01 00:20:34</td><td>2019-01-01 00:35:20</td><td>Subscriber</td><td>Male</td><td>1994</td></tr><tr><th>12</th><td>21742454</td><td>2019-01-01 00:21:52</td><td>2019-01-01 00:32:45</td><td>Subscriber</td><td>Female</td><td>1994</td></tr><tr><th>13</th><td>21742455</td><td>2019-01-01 00:23:04</td><td>2019-01-01 00:33:05</td><td>Subscriber</td><td>Male</td><td>1986</td></tr><tr><th>14</th><td>21742456</td><td>2019-01-01 00:23:43</td><td>2019-01-01 00:33:05</td><td>Customer</td><td>Female</td><td>1990</td></tr><tr><th>15</th><td>21742457</td><td>2019-01-01 00:23:54</td><td>2019-01-01 00:39:00</td><td>Subscriber</td><td>Female</td><td>1989</td></tr><tr><th>16</th><td>21742458</td><td>2019-01-01 00:24:08</td><td>2019-01-01 00:39:00</td><td>Subscriber</td><td>Female</td><td>1989</td></tr><tr><th>17</th><td>21742459</td><td>2019-01-01 00:24:13</td><td>2019-01-01 00:31:00</td><td>Subscriber</td><td>Male</td><td>1967</td></tr><tr><th>18</th><td>21742460</td><td>2019-01-01 00:24:27</td><td>2019-01-01 00:47:03</td><td>Customer</td><td>Female</td><td>1990</td></tr><tr><th>19</th><td>21742461</td><td>2019-01-01 00:25:28</td><td>2019-01-01 00:27:10</td><td>Subscriber</td><td>Male</td><td>1985</td></tr><tr><th>20</th><td>21742464</td><td>2019-01-01 00:29:21</td><td>2019-01-01 00:45:21</td><td>Subscriber</td><td>Male</td><td>1957</td></tr><tr><th>21</th><td>21742466</td><td>2019-01-01 00:29:47</td><td>2019-01-01 00:49:15</td><td>Subscriber</td><td>Male</td><td>1959</td></tr><tr><th>22</th><td>21742467</td><td>2019-01-01 00:30:48</td><td>2019-01-01 00:38:42</td><td>Subscriber</td><td>Male</td><td>1994</td></tr><tr><th>23</th><td>21742468</td><td>2019-01-01 00:33:09</td><td>2019-01-01 00:50:25</td><td>Subscriber</td><td>Male</td><td>1991</td></tr><tr><th>24</th><td>21742469</td><td>2019-01-01 00:34:35</td><td>2019-01-01 00:38:25</td><td>Subscriber</td><td>Male</td><td>1961</td></tr><tr><th>25</th><td>21742471</td><td>2019-01-01 00:38:11</td><td>2019-01-01 00:50:38</td><td>Subscriber</td><td>Male</td><td>1968</td></tr><tr><th>26</th><td>21742472</td><td>2019-01-01 00:38:47</td><td>2019-01-01 00:50:38</td><td>Subscriber</td><td>Male</td><td>1964</td></tr><tr><th>27</th><td>21742473</td><td>2019-01-01 00:40:16</td><td>2019-01-01 00:49:29</td><td>Subscriber</td><td>Male</td><td>1990</td></tr><tr><th>28</th><td>21742474</td><td>2019-01-01 00:41:46</td><td>2019-01-01 00:50:27</td><td>Subscriber</td><td>Male</td><td>1994</td></tr><tr><th>29</th><td>21742475</td><td>2019-01-01 00:45:37</td><td>2019-01-01 01:17:51</td><td>Subscriber</td><td>Male</td><td>1991</td></tr><tr><th>30</th><td>21742476</td><td>2019-01-01 00:45:45</td><td>2019-01-01 00:50:00</td><td>Subscriber</td><td>Male</td><td>1988</td></tr><tr><th>&vellip;</th><td>&vellip;</td><td>&vellip;</td><td>&vellip;</td><td>&vellip;</td><td>&vellip;</td><td>&vellip;</td></tr></tbody></table>"
      ],
      "text/latex": [
       "\\begin{tabular}{r|ccccccc}\n",
       "\t& codigo & tempo\\_inicial & tempo\\_final & tipo\\_usuario & genero & ano\\_aniversario & \\\\\n",
       "\t\\hline\n",
       "\t& Int64 & String & String & String & String & Int64 & \\\\\n",
       "\t\\hline\n",
       "\t1 & 21742443 & 2019-01-01 00:04:37 & 2019-01-01 00:11:07 & Subscriber & Male & 1989 & $\\dots$ \\\\\n",
       "\t2 & 21742444 & 2019-01-01 00:08:13 & 2019-01-01 00:15:34 & Subscriber & Female & 1990 & $\\dots$ \\\\\n",
       "\t3 & 21742445 & 2019-01-01 00:13:23 & 2019-01-01 00:27:12 & Subscriber & Female & 1994 & $\\dots$ \\\\\n",
       "\t4 & 21742446 & 2019-01-01 00:13:45 & 2019-01-01 00:43:28 & Subscriber & Male & 1993 & $\\dots$ \\\\\n",
       "\t5 & 21742447 & 2019-01-01 00:14:52 & 2019-01-01 00:20:56 & Subscriber & Male & 1994 & $\\dots$ \\\\\n",
       "\t6 & 21742448 & 2019-01-01 00:15:33 & 2019-01-01 00:19:09 & Subscriber & Female & 1983 & $\\dots$ \\\\\n",
       "\t7 & 21742449 & 2019-01-01 00:16:06 & 2019-01-01 00:19:03 & Subscriber & Male & 1984 & $\\dots$ \\\\\n",
       "\t8 & 21742450 & 2019-01-01 00:18:41 & 2019-01-01 00:20:21 & Subscriber & Male & 1990 & $\\dots$ \\\\\n",
       "\t9 & 21742451 & 2019-01-01 00:18:43 & 2019-01-01 00:47:30 & Subscriber & Male & 1995 & $\\dots$ \\\\\n",
       "\t10 & 21742452 & 2019-01-01 00:19:18 & 2019-01-01 00:24:54 & Subscriber & Male & 1996 & $\\dots$ \\\\\n",
       "\t11 & 21742453 & 2019-01-01 00:20:34 & 2019-01-01 00:35:20 & Subscriber & Male & 1994 & $\\dots$ \\\\\n",
       "\t12 & 21742454 & 2019-01-01 00:21:52 & 2019-01-01 00:32:45 & Subscriber & Female & 1994 & $\\dots$ \\\\\n",
       "\t13 & 21742455 & 2019-01-01 00:23:04 & 2019-01-01 00:33:05 & Subscriber & Male & 1986 & $\\dots$ \\\\\n",
       "\t14 & 21742456 & 2019-01-01 00:23:43 & 2019-01-01 00:33:05 & Customer & Female & 1990 & $\\dots$ \\\\\n",
       "\t15 & 21742457 & 2019-01-01 00:23:54 & 2019-01-01 00:39:00 & Subscriber & Female & 1989 & $\\dots$ \\\\\n",
       "\t16 & 21742458 & 2019-01-01 00:24:08 & 2019-01-01 00:39:00 & Subscriber & Female & 1989 & $\\dots$ \\\\\n",
       "\t17 & 21742459 & 2019-01-01 00:24:13 & 2019-01-01 00:31:00 & Subscriber & Male & 1967 & $\\dots$ \\\\\n",
       "\t18 & 21742460 & 2019-01-01 00:24:27 & 2019-01-01 00:47:03 & Customer & Female & 1990 & $\\dots$ \\\\\n",
       "\t19 & 21742461 & 2019-01-01 00:25:28 & 2019-01-01 00:27:10 & Subscriber & Male & 1985 & $\\dots$ \\\\\n",
       "\t20 & 21742464 & 2019-01-01 00:29:21 & 2019-01-01 00:45:21 & Subscriber & Male & 1957 & $\\dots$ \\\\\n",
       "\t21 & 21742466 & 2019-01-01 00:29:47 & 2019-01-01 00:49:15 & Subscriber & Male & 1959 & $\\dots$ \\\\\n",
       "\t22 & 21742467 & 2019-01-01 00:30:48 & 2019-01-01 00:38:42 & Subscriber & Male & 1994 & $\\dots$ \\\\\n",
       "\t23 & 21742468 & 2019-01-01 00:33:09 & 2019-01-01 00:50:25 & Subscriber & Male & 1991 & $\\dots$ \\\\\n",
       "\t24 & 21742469 & 2019-01-01 00:34:35 & 2019-01-01 00:38:25 & Subscriber & Male & 1961 & $\\dots$ \\\\\n",
       "\t25 & 21742471 & 2019-01-01 00:38:11 & 2019-01-01 00:50:38 & Subscriber & Male & 1968 & $\\dots$ \\\\\n",
       "\t26 & 21742472 & 2019-01-01 00:38:47 & 2019-01-01 00:50:38 & Subscriber & Male & 1964 & $\\dots$ \\\\\n",
       "\t27 & 21742473 & 2019-01-01 00:40:16 & 2019-01-01 00:49:29 & Subscriber & Male & 1990 & $\\dots$ \\\\\n",
       "\t28 & 21742474 & 2019-01-01 00:41:46 & 2019-01-01 00:50:27 & Subscriber & Male & 1994 & $\\dots$ \\\\\n",
       "\t29 & 21742475 & 2019-01-01 00:45:37 & 2019-01-01 01:17:51 & Subscriber & Male & 1991 & $\\dots$ \\\\\n",
       "\t30 & 21742476 & 2019-01-01 00:45:45 & 2019-01-01 00:50:00 & Subscriber & Male & 1988 & $\\dots$ \\\\\n",
       "\t$\\dots$ & $\\dots$ & $\\dots$ & $\\dots$ & $\\dots$ & $\\dots$ & $\\dots$ &  \\\\\n",
       "\\end{tabular}\n"
      ],
      "text/plain": [
       "345357×8 DataFrame. Omitted printing of 4 columns\n",
       "│ Row    │ codigo   │ tempo_inicial       │ tempo_final         │ tipo_usuario │\n",
       "│        │ \u001b[90mInt64\u001b[39m    │ \u001b[90mString\u001b[39m              │ \u001b[90mString\u001b[39m              │ \u001b[90mString\u001b[39m       │\n",
       "├────────┼──────────┼─────────────────────┼─────────────────────┼──────────────┤\n",
       "│ 1      │ 21742443 │ 2019-01-01 00:04:37 │ 2019-01-01 00:11:07 │ Subscriber   │\n",
       "│ 2      │ 21742444 │ 2019-01-01 00:08:13 │ 2019-01-01 00:15:34 │ Subscriber   │\n",
       "│ 3      │ 21742445 │ 2019-01-01 00:13:23 │ 2019-01-01 00:27:12 │ Subscriber   │\n",
       "│ 4      │ 21742446 │ 2019-01-01 00:13:45 │ 2019-01-01 00:43:28 │ Subscriber   │\n",
       "│ 5      │ 21742447 │ 2019-01-01 00:14:52 │ 2019-01-01 00:20:56 │ Subscriber   │\n",
       "│ 6      │ 21742448 │ 2019-01-01 00:15:33 │ 2019-01-01 00:19:09 │ Subscriber   │\n",
       "│ 7      │ 21742449 │ 2019-01-01 00:16:06 │ 2019-01-01 00:19:03 │ Subscriber   │\n",
       "│ 8      │ 21742450 │ 2019-01-01 00:18:41 │ 2019-01-01 00:20:21 │ Subscriber   │\n",
       "│ 9      │ 21742451 │ 2019-01-01 00:18:43 │ 2019-01-01 00:47:30 │ Subscriber   │\n",
       "│ 10     │ 21742452 │ 2019-01-01 00:19:18 │ 2019-01-01 00:24:54 │ Subscriber   │\n",
       "⋮\n",
       "│ 345347 │ 22178515 │ 2019-03-31 23:26:00 │ 2019-03-31 23:37:24 │ Subscriber   │\n",
       "│ 345348 │ 22178516 │ 2019-03-31 23:31:30 │ 2019-03-31 23:35:29 │ Subscriber   │\n",
       "│ 345349 │ 22178518 │ 2019-03-31 23:33:02 │ 2019-03-31 23:43:15 │ Subscriber   │\n",
       "│ 345350 │ 22178520 │ 2019-03-31 23:34:08 │ 2019-03-31 23:38:07 │ Subscriber   │\n",
       "│ 345351 │ 22178521 │ 2019-03-31 23:39:48 │ 2019-03-31 23:41:41 │ Subscriber   │\n",
       "│ 345352 │ 22178522 │ 2019-03-31 23:47:05 │ 2019-03-31 23:51:35 │ Subscriber   │\n",
       "│ 345353 │ 22178524 │ 2019-03-31 23:51:32 │ 2019-04-01 00:04:09 │ Subscriber   │\n",
       "│ 345354 │ 22178525 │ 2019-03-31 23:52:37 │ 2019-03-31 23:58:09 │ Subscriber   │\n",
       "│ 345355 │ 22178526 │ 2019-03-31 23:52:38 │ 2019-04-01 00:06:44 │ Subscriber   │\n",
       "│ 345356 │ 22178527 │ 2019-03-31 23:53:08 │ 2019-03-31 23:56:06 │ Subscriber   │\n",
       "│ 345357 │ 22178528 │ 2019-03-31 23:53:48 │ 2019-04-01 00:01:16 │ Subscriber   │"
      ]
     },
     "execution_count": 23,
     "metadata": {},
     "output_type": "execute_result"
    }
   ],
   "source": [
    "trips = dropmissing(trips)"
   ]
  },
  {
   "cell_type": "code",
   "execution_count": 24,
   "metadata": {},
   "outputs": [],
   "source": [
    "using Dates"
   ]
  },
  {
   "cell_type": "code",
   "execution_count": 25,
   "metadata": {},
   "outputs": [
    {
     "data": {
      "text/plain": [
       "345357-element Array{Int64,1}:\n",
       " 31\n",
       " 30\n",
       " 26\n",
       " 27\n",
       " 26\n",
       " 37\n",
       " 36\n",
       " 30\n",
       " 25\n",
       " 24\n",
       " 26\n",
       " 26\n",
       " 34\n",
       "  ⋮\n",
       " 37\n",
       " 36\n",
       " 50\n",
       " 48\n",
       " 36\n",
       " 49\n",
       " 35\n",
       " 27\n",
       " 28\n",
       " 36\n",
       " 51\n",
       " 22"
      ]
     },
     "execution_count": 25,
     "metadata": {},
     "output_type": "execute_result"
    }
   ],
   "source": [
    "trips[!, :idade] .= map(x -> year(now()) - x,trips.ano_aniversario) "
   ]
  },
  {
   "cell_type": "code",
   "execution_count": 26,
   "metadata": {},
   "outputs": [
    {
     "data": {
      "text/html": [
       "<p><b>GroupedDataFrame with 2 groups based on key: genero</b></p><p><i>First Group (278439 rows): genero = \"Male\"</i></p><table class=\"data-frame\"><thead><tr><th></th><th>codigo</th><th>tempo_inicial</th><th>tempo_final</th><th>tipo_usuario</th><th>genero</th><th>ano_aniversario</th></tr><tr><th></th><th>Int64</th><th>String</th><th>String</th><th>String</th><th>String</th><th>Int64</th></tr></thead><tbody><tr><th>1</th><td>21742443</td><td>2019-01-01 00:04:37</td><td>2019-01-01 00:11:07</td><td>Subscriber</td><td>Male</td><td>1989</td></tr><tr><th>2</th><td>21742446</td><td>2019-01-01 00:13:45</td><td>2019-01-01 00:43:28</td><td>Subscriber</td><td>Male</td><td>1993</td></tr><tr><th>3</th><td>21742447</td><td>2019-01-01 00:14:52</td><td>2019-01-01 00:20:56</td><td>Subscriber</td><td>Male</td><td>1994</td></tr><tr><th>4</th><td>21742449</td><td>2019-01-01 00:16:06</td><td>2019-01-01 00:19:03</td><td>Subscriber</td><td>Male</td><td>1984</td></tr><tr><th>5</th><td>21742450</td><td>2019-01-01 00:18:41</td><td>2019-01-01 00:20:21</td><td>Subscriber</td><td>Male</td><td>1990</td></tr><tr><th>6</th><td>21742451</td><td>2019-01-01 00:18:43</td><td>2019-01-01 00:47:30</td><td>Subscriber</td><td>Male</td><td>1995</td></tr><tr><th>7</th><td>21742452</td><td>2019-01-01 00:19:18</td><td>2019-01-01 00:24:54</td><td>Subscriber</td><td>Male</td><td>1996</td></tr><tr><th>8</th><td>21742453</td><td>2019-01-01 00:20:34</td><td>2019-01-01 00:35:20</td><td>Subscriber</td><td>Male</td><td>1994</td></tr><tr><th>9</th><td>21742455</td><td>2019-01-01 00:23:04</td><td>2019-01-01 00:33:05</td><td>Subscriber</td><td>Male</td><td>1986</td></tr><tr><th>10</th><td>21742459</td><td>2019-01-01 00:24:13</td><td>2019-01-01 00:31:00</td><td>Subscriber</td><td>Male</td><td>1967</td></tr><tr><th>11</th><td>21742461</td><td>2019-01-01 00:25:28</td><td>2019-01-01 00:27:10</td><td>Subscriber</td><td>Male</td><td>1985</td></tr><tr><th>12</th><td>21742464</td><td>2019-01-01 00:29:21</td><td>2019-01-01 00:45:21</td><td>Subscriber</td><td>Male</td><td>1957</td></tr><tr><th>13</th><td>21742466</td><td>2019-01-01 00:29:47</td><td>2019-01-01 00:49:15</td><td>Subscriber</td><td>Male</td><td>1959</td></tr><tr><th>14</th><td>21742467</td><td>2019-01-01 00:30:48</td><td>2019-01-01 00:38:42</td><td>Subscriber</td><td>Male</td><td>1994</td></tr><tr><th>15</th><td>21742468</td><td>2019-01-01 00:33:09</td><td>2019-01-01 00:50:25</td><td>Subscriber</td><td>Male</td><td>1991</td></tr><tr><th>16</th><td>21742469</td><td>2019-01-01 00:34:35</td><td>2019-01-01 00:38:25</td><td>Subscriber</td><td>Male</td><td>1961</td></tr><tr><th>17</th><td>21742471</td><td>2019-01-01 00:38:11</td><td>2019-01-01 00:50:38</td><td>Subscriber</td><td>Male</td><td>1968</td></tr><tr><th>18</th><td>21742472</td><td>2019-01-01 00:38:47</td><td>2019-01-01 00:50:38</td><td>Subscriber</td><td>Male</td><td>1964</td></tr><tr><th>19</th><td>21742473</td><td>2019-01-01 00:40:16</td><td>2019-01-01 00:49:29</td><td>Subscriber</td><td>Male</td><td>1990</td></tr><tr><th>20</th><td>21742474</td><td>2019-01-01 00:41:46</td><td>2019-01-01 00:50:27</td><td>Subscriber</td><td>Male</td><td>1994</td></tr><tr><th>21</th><td>21742475</td><td>2019-01-01 00:45:37</td><td>2019-01-01 01:17:51</td><td>Subscriber</td><td>Male</td><td>1991</td></tr><tr><th>22</th><td>21742476</td><td>2019-01-01 00:45:45</td><td>2019-01-01 00:50:00</td><td>Subscriber</td><td>Male</td><td>1988</td></tr><tr><th>23</th><td>21742478</td><td>2019-01-01 00:47:49</td><td>2019-01-01 00:54:56</td><td>Subscriber</td><td>Male</td><td>1984</td></tr><tr><th>24</th><td>21742479</td><td>2019-01-01 00:48:44</td><td>2019-01-01 00:59:39</td><td>Subscriber</td><td>Male</td><td>1988</td></tr><tr><th>25</th><td>21742480</td><td>2019-01-01 00:51:55</td><td>2019-01-01 00:54:49</td><td>Subscriber</td><td>Male</td><td>1989</td></tr><tr><th>26</th><td>21742481</td><td>2019-01-01 00:55:35</td><td>2019-01-01 00:57:35</td><td>Subscriber</td><td>Male</td><td>1976</td></tr><tr><th>27</th><td>21742483</td><td>2019-01-01 00:58:09</td><td>2019-01-01 01:15:33</td><td>Subscriber</td><td>Male</td><td>1989</td></tr><tr><th>28</th><td>21742484</td><td>2019-01-01 00:58:33</td><td>2019-01-01 01:05:17</td><td>Subscriber</td><td>Male</td><td>1992</td></tr><tr><th>29</th><td>21742485</td><td>2019-01-01 00:58:44</td><td>2019-01-01 01:07:45</td><td>Subscriber</td><td>Male</td><td>1988</td></tr><tr><th>30</th><td>21742487</td><td>2019-01-01 01:02:54</td><td>2019-01-01 01:22:01</td><td>Customer</td><td>Male</td><td>1988</td></tr><tr><th>&vellip;</th><td>&vellip;</td><td>&vellip;</td><td>&vellip;</td><td>&vellip;</td><td>&vellip;</td><td>&vellip;</td></tr></tbody></table><p>&vellip;</p><p><i>Last Group (66918 rows): genero = \"Female\"</i></p><table class=\"data-frame\"><thead><tr><th></th><th>codigo</th><th>tempo_inicial</th><th>tempo_final</th><th>tipo_usuario</th><th>genero</th><th>ano_aniversario</th></tr><tr><th></th><th>Int64</th><th>String</th><th>String</th><th>String</th><th>String</th><th>Int64</th></tr></thead><tbody><tr><th>1</th><td>21742444</td><td>2019-01-01 00:08:13</td><td>2019-01-01 00:15:34</td><td>Subscriber</td><td>Female</td><td>1990</td></tr><tr><th>2</th><td>21742445</td><td>2019-01-01 00:13:23</td><td>2019-01-01 00:27:12</td><td>Subscriber</td><td>Female</td><td>1994</td></tr><tr><th>3</th><td>21742448</td><td>2019-01-01 00:15:33</td><td>2019-01-01 00:19:09</td><td>Subscriber</td><td>Female</td><td>1983</td></tr><tr><th>4</th><td>21742454</td><td>2019-01-01 00:21:52</td><td>2019-01-01 00:32:45</td><td>Subscriber</td><td>Female</td><td>1994</td></tr><tr><th>5</th><td>21742456</td><td>2019-01-01 00:23:43</td><td>2019-01-01 00:33:05</td><td>Customer</td><td>Female</td><td>1990</td></tr><tr><th>6</th><td>21742457</td><td>2019-01-01 00:23:54</td><td>2019-01-01 00:39:00</td><td>Subscriber</td><td>Female</td><td>1989</td></tr><tr><th>7</th><td>21742458</td><td>2019-01-01 00:24:08</td><td>2019-01-01 00:39:00</td><td>Subscriber</td><td>Female</td><td>1989</td></tr><tr><th>8</th><td>21742460</td><td>2019-01-01 00:24:27</td><td>2019-01-01 00:47:03</td><td>Customer</td><td>Female</td><td>1990</td></tr><tr><th>9</th><td>21742477</td><td>2019-01-01 00:46:19</td><td>2019-01-01 00:51:26</td><td>Subscriber</td><td>Female</td><td>1961</td></tr><tr><th>10</th><td>21742486</td><td>2019-01-01 00:58:55</td><td>2019-01-01 01:07:50</td><td>Subscriber</td><td>Female</td><td>1988</td></tr><tr><th>11</th><td>21742490</td><td>2019-01-01 01:04:29</td><td>2019-01-01 01:10:52</td><td>Subscriber</td><td>Female</td><td>1993</td></tr><tr><th>12</th><td>21742491</td><td>2019-01-01 01:04:33</td><td>2019-01-01 01:22:12</td><td>Customer</td><td>Female</td><td>1989</td></tr><tr><th>13</th><td>21742492</td><td>2019-01-01 01:06:14</td><td>2019-01-01 01:19:47</td><td>Subscriber</td><td>Female</td><td>1991</td></tr><tr><th>14</th><td>21742508</td><td>2019-01-01 01:26:27</td><td>2019-01-01 01:45:56</td><td>Subscriber</td><td>Female</td><td>1952</td></tr><tr><th>15</th><td>21742518</td><td>2019-01-01 01:38:29</td><td>2019-01-01 01:46:58</td><td>Subscriber</td><td>Female</td><td>1977</td></tr><tr><th>16</th><td>21742519</td><td>2019-01-01 01:40:08</td><td>2019-01-01 01:46:44</td><td>Subscriber</td><td>Female</td><td>1986</td></tr><tr><th>17</th><td>21742521</td><td>2019-01-01 01:45:23</td><td>2019-01-01 02:00:46</td><td>Subscriber</td><td>Female</td><td>1995</td></tr><tr><th>18</th><td>21742522</td><td>2019-01-01 01:45:56</td><td>2019-01-01 01:53:29</td><td>Subscriber</td><td>Female</td><td>1992</td></tr><tr><th>19</th><td>21742530</td><td>2019-01-01 01:49:30</td><td>2019-01-01 01:57:47</td><td>Subscriber</td><td>Female</td><td>1989</td></tr><tr><th>20</th><td>21742534</td><td>2019-01-01 01:52:49</td><td>2019-01-01 01:55:46</td><td>Subscriber</td><td>Female</td><td>1976</td></tr><tr><th>21</th><td>21742536</td><td>2019-01-01 01:56:43</td><td>2019-01-01 02:00:31</td><td>Subscriber</td><td>Female</td><td>1984</td></tr><tr><th>22</th><td>21742556</td><td>2019-01-01 02:30:39</td><td>2019-01-01 02:36:36</td><td>Subscriber</td><td>Female</td><td>1969</td></tr><tr><th>23</th><td>21742562</td><td>2019-01-01 02:33:26</td><td>2019-01-01 02:36:53</td><td>Subscriber</td><td>Female</td><td>1986</td></tr><tr><th>24</th><td>21742579</td><td>2019-01-01 03:04:34</td><td>2019-01-01 03:08:01</td><td>Subscriber</td><td>Female</td><td>1987</td></tr><tr><th>25</th><td>21742599</td><td>2019-01-01 04:08:51</td><td>2019-01-01 04:12:58</td><td>Subscriber</td><td>Female</td><td>1989</td></tr><tr><th>26</th><td>21742613</td><td>2019-01-01 06:01:59</td><td>2019-01-01 06:12:59</td><td>Subscriber</td><td>Female</td><td>1992</td></tr><tr><th>27</th><td>21742617</td><td>2019-01-01 06:20:44</td><td>2019-01-01 06:45:56</td><td>Subscriber</td><td>Female</td><td>1988</td></tr><tr><th>28</th><td>21742618</td><td>2019-01-01 06:40:45</td><td>2019-01-01 06:51:48</td><td>Subscriber</td><td>Female</td><td>1976</td></tr><tr><th>29</th><td>21742619</td><td>2019-01-01 06:42:13</td><td>2019-01-01 06:50:15</td><td>Subscriber</td><td>Female</td><td>1947</td></tr><tr><th>30</th><td>21742621</td><td>2019-01-01 06:52:55</td><td>2019-01-01 07:14:00</td><td>Subscriber</td><td>Female</td><td>1982</td></tr><tr><th>&vellip;</th><td>&vellip;</td><td>&vellip;</td><td>&vellip;</td><td>&vellip;</td><td>&vellip;</td><td>&vellip;</td></tr></tbody></table>"
      ],
      "text/latex": [
       "GroupedDataFrame with 2 groups based on key: genero\n",
       "\n",
       "First Group (278439 rows): genero = \"Male\"\n",
       "\n",
       "\\begin{tabular}{r|ccccccc}\n",
       "\t& codigo & tempo\\_inicial & tempo\\_final & tipo\\_usuario & genero & ano\\_aniversario & \\\\\n",
       "\t\\hline\n",
       "\t& Int64 & String & String & String & String & Int64 & \\\\\n",
       "\t\\hline\n",
       "\t1 & 21742443 & 2019-01-01 00:04:37 & 2019-01-01 00:11:07 & Subscriber & Male & 1989 & $\\dots$ \\\\\n",
       "\t2 & 21742446 & 2019-01-01 00:13:45 & 2019-01-01 00:43:28 & Subscriber & Male & 1993 & $\\dots$ \\\\\n",
       "\t3 & 21742447 & 2019-01-01 00:14:52 & 2019-01-01 00:20:56 & Subscriber & Male & 1994 & $\\dots$ \\\\\n",
       "\t4 & 21742449 & 2019-01-01 00:16:06 & 2019-01-01 00:19:03 & Subscriber & Male & 1984 & $\\dots$ \\\\\n",
       "\t5 & 21742450 & 2019-01-01 00:18:41 & 2019-01-01 00:20:21 & Subscriber & Male & 1990 & $\\dots$ \\\\\n",
       "\t6 & 21742451 & 2019-01-01 00:18:43 & 2019-01-01 00:47:30 & Subscriber & Male & 1995 & $\\dots$ \\\\\n",
       "\t7 & 21742452 & 2019-01-01 00:19:18 & 2019-01-01 00:24:54 & Subscriber & Male & 1996 & $\\dots$ \\\\\n",
       "\t8 & 21742453 & 2019-01-01 00:20:34 & 2019-01-01 00:35:20 & Subscriber & Male & 1994 & $\\dots$ \\\\\n",
       "\t9 & 21742455 & 2019-01-01 00:23:04 & 2019-01-01 00:33:05 & Subscriber & Male & 1986 & $\\dots$ \\\\\n",
       "\t10 & 21742459 & 2019-01-01 00:24:13 & 2019-01-01 00:31:00 & Subscriber & Male & 1967 & $\\dots$ \\\\\n",
       "\t11 & 21742461 & 2019-01-01 00:25:28 & 2019-01-01 00:27:10 & Subscriber & Male & 1985 & $\\dots$ \\\\\n",
       "\t12 & 21742464 & 2019-01-01 00:29:21 & 2019-01-01 00:45:21 & Subscriber & Male & 1957 & $\\dots$ \\\\\n",
       "\t13 & 21742466 & 2019-01-01 00:29:47 & 2019-01-01 00:49:15 & Subscriber & Male & 1959 & $\\dots$ \\\\\n",
       "\t14 & 21742467 & 2019-01-01 00:30:48 & 2019-01-01 00:38:42 & Subscriber & Male & 1994 & $\\dots$ \\\\\n",
       "\t15 & 21742468 & 2019-01-01 00:33:09 & 2019-01-01 00:50:25 & Subscriber & Male & 1991 & $\\dots$ \\\\\n",
       "\t16 & 21742469 & 2019-01-01 00:34:35 & 2019-01-01 00:38:25 & Subscriber & Male & 1961 & $\\dots$ \\\\\n",
       "\t17 & 21742471 & 2019-01-01 00:38:11 & 2019-01-01 00:50:38 & Subscriber & Male & 1968 & $\\dots$ \\\\\n",
       "\t18 & 21742472 & 2019-01-01 00:38:47 & 2019-01-01 00:50:38 & Subscriber & Male & 1964 & $\\dots$ \\\\\n",
       "\t19 & 21742473 & 2019-01-01 00:40:16 & 2019-01-01 00:49:29 & Subscriber & Male & 1990 & $\\dots$ \\\\\n",
       "\t20 & 21742474 & 2019-01-01 00:41:46 & 2019-01-01 00:50:27 & Subscriber & Male & 1994 & $\\dots$ \\\\\n",
       "\t21 & 21742475 & 2019-01-01 00:45:37 & 2019-01-01 01:17:51 & Subscriber & Male & 1991 & $\\dots$ \\\\\n",
       "\t22 & 21742476 & 2019-01-01 00:45:45 & 2019-01-01 00:50:00 & Subscriber & Male & 1988 & $\\dots$ \\\\\n",
       "\t23 & 21742478 & 2019-01-01 00:47:49 & 2019-01-01 00:54:56 & Subscriber & Male & 1984 & $\\dots$ \\\\\n",
       "\t24 & 21742479 & 2019-01-01 00:48:44 & 2019-01-01 00:59:39 & Subscriber & Male & 1988 & $\\dots$ \\\\\n",
       "\t25 & 21742480 & 2019-01-01 00:51:55 & 2019-01-01 00:54:49 & Subscriber & Male & 1989 & $\\dots$ \\\\\n",
       "\t26 & 21742481 & 2019-01-01 00:55:35 & 2019-01-01 00:57:35 & Subscriber & Male & 1976 & $\\dots$ \\\\\n",
       "\t27 & 21742483 & 2019-01-01 00:58:09 & 2019-01-01 01:15:33 & Subscriber & Male & 1989 & $\\dots$ \\\\\n",
       "\t28 & 21742484 & 2019-01-01 00:58:33 & 2019-01-01 01:05:17 & Subscriber & Male & 1992 & $\\dots$ \\\\\n",
       "\t29 & 21742485 & 2019-01-01 00:58:44 & 2019-01-01 01:07:45 & Subscriber & Male & 1988 & $\\dots$ \\\\\n",
       "\t30 & 21742487 & 2019-01-01 01:02:54 & 2019-01-01 01:22:01 & Customer & Male & 1988 & $\\dots$ \\\\\n",
       "\t$\\dots$ & $\\dots$ & $\\dots$ & $\\dots$ & $\\dots$ & $\\dots$ & $\\dots$ &  \\\\\n",
       "\\end{tabular}\n",
       "\n",
       "$\\dots$\n",
       "\n",
       "Last Group (66918 rows): genero = \"Female\"\n",
       "\n",
       "\\begin{tabular}{r|ccccccc}\n",
       "\t& codigo & tempo\\_inicial & tempo\\_final & tipo\\_usuario & genero & ano\\_aniversario & \\\\\n",
       "\t\\hline\n",
       "\t& Int64 & String & String & String & String & Int64 & \\\\\n",
       "\t\\hline\n",
       "\t1 & 21742444 & 2019-01-01 00:08:13 & 2019-01-01 00:15:34 & Subscriber & Female & 1990 & $\\dots$ \\\\\n",
       "\t2 & 21742445 & 2019-01-01 00:13:23 & 2019-01-01 00:27:12 & Subscriber & Female & 1994 & $\\dots$ \\\\\n",
       "\t3 & 21742448 & 2019-01-01 00:15:33 & 2019-01-01 00:19:09 & Subscriber & Female & 1983 & $\\dots$ \\\\\n",
       "\t4 & 21742454 & 2019-01-01 00:21:52 & 2019-01-01 00:32:45 & Subscriber & Female & 1994 & $\\dots$ \\\\\n",
       "\t5 & 21742456 & 2019-01-01 00:23:43 & 2019-01-01 00:33:05 & Customer & Female & 1990 & $\\dots$ \\\\\n",
       "\t6 & 21742457 & 2019-01-01 00:23:54 & 2019-01-01 00:39:00 & Subscriber & Female & 1989 & $\\dots$ \\\\\n",
       "\t7 & 21742458 & 2019-01-01 00:24:08 & 2019-01-01 00:39:00 & Subscriber & Female & 1989 & $\\dots$ \\\\\n",
       "\t8 & 21742460 & 2019-01-01 00:24:27 & 2019-01-01 00:47:03 & Customer & Female & 1990 & $\\dots$ \\\\\n",
       "\t9 & 21742477 & 2019-01-01 00:46:19 & 2019-01-01 00:51:26 & Subscriber & Female & 1961 & $\\dots$ \\\\\n",
       "\t10 & 21742486 & 2019-01-01 00:58:55 & 2019-01-01 01:07:50 & Subscriber & Female & 1988 & $\\dots$ \\\\\n",
       "\t11 & 21742490 & 2019-01-01 01:04:29 & 2019-01-01 01:10:52 & Subscriber & Female & 1993 & $\\dots$ \\\\\n",
       "\t12 & 21742491 & 2019-01-01 01:04:33 & 2019-01-01 01:22:12 & Customer & Female & 1989 & $\\dots$ \\\\\n",
       "\t13 & 21742492 & 2019-01-01 01:06:14 & 2019-01-01 01:19:47 & Subscriber & Female & 1991 & $\\dots$ \\\\\n",
       "\t14 & 21742508 & 2019-01-01 01:26:27 & 2019-01-01 01:45:56 & Subscriber & Female & 1952 & $\\dots$ \\\\\n",
       "\t15 & 21742518 & 2019-01-01 01:38:29 & 2019-01-01 01:46:58 & Subscriber & Female & 1977 & $\\dots$ \\\\\n",
       "\t16 & 21742519 & 2019-01-01 01:40:08 & 2019-01-01 01:46:44 & Subscriber & Female & 1986 & $\\dots$ \\\\\n",
       "\t17 & 21742521 & 2019-01-01 01:45:23 & 2019-01-01 02:00:46 & Subscriber & Female & 1995 & $\\dots$ \\\\\n",
       "\t18 & 21742522 & 2019-01-01 01:45:56 & 2019-01-01 01:53:29 & Subscriber & Female & 1992 & $\\dots$ \\\\\n",
       "\t19 & 21742530 & 2019-01-01 01:49:30 & 2019-01-01 01:57:47 & Subscriber & Female & 1989 & $\\dots$ \\\\\n",
       "\t20 & 21742534 & 2019-01-01 01:52:49 & 2019-01-01 01:55:46 & Subscriber & Female & 1976 & $\\dots$ \\\\\n",
       "\t21 & 21742536 & 2019-01-01 01:56:43 & 2019-01-01 02:00:31 & Subscriber & Female & 1984 & $\\dots$ \\\\\n",
       "\t22 & 21742556 & 2019-01-01 02:30:39 & 2019-01-01 02:36:36 & Subscriber & Female & 1969 & $\\dots$ \\\\\n",
       "\t23 & 21742562 & 2019-01-01 02:33:26 & 2019-01-01 02:36:53 & Subscriber & Female & 1986 & $\\dots$ \\\\\n",
       "\t24 & 21742579 & 2019-01-01 03:04:34 & 2019-01-01 03:08:01 & Subscriber & Female & 1987 & $\\dots$ \\\\\n",
       "\t25 & 21742599 & 2019-01-01 04:08:51 & 2019-01-01 04:12:58 & Subscriber & Female & 1989 & $\\dots$ \\\\\n",
       "\t26 & 21742613 & 2019-01-01 06:01:59 & 2019-01-01 06:12:59 & Subscriber & Female & 1992 & $\\dots$ \\\\\n",
       "\t27 & 21742617 & 2019-01-01 06:20:44 & 2019-01-01 06:45:56 & Subscriber & Female & 1988 & $\\dots$ \\\\\n",
       "\t28 & 21742618 & 2019-01-01 06:40:45 & 2019-01-01 06:51:48 & Subscriber & Female & 1976 & $\\dots$ \\\\\n",
       "\t29 & 21742619 & 2019-01-01 06:42:13 & 2019-01-01 06:50:15 & Subscriber & Female & 1947 & $\\dots$ \\\\\n",
       "\t30 & 21742621 & 2019-01-01 06:52:55 & 2019-01-01 07:14:00 & Subscriber & Female & 1982 & $\\dots$ \\\\\n",
       "\t$\\dots$ & $\\dots$ & $\\dots$ & $\\dots$ & $\\dots$ & $\\dots$ & $\\dots$ &  \\\\\n",
       "\\end{tabular}\n"
      ],
      "text/plain": [
       "GroupedDataFrame with 2 groups based on key: genero\n",
       "First Group (278439 rows): genero = \"Male\". Omitted printing of 5 columns\n",
       "│ Row    │ codigo   │ tempo_inicial       │ tempo_final         │ tipo_usuario │\n",
       "│        │ \u001b[90mInt64\u001b[39m    │ \u001b[90mString\u001b[39m              │ \u001b[90mString\u001b[39m              │ \u001b[90mString\u001b[39m       │\n",
       "├────────┼──────────┼─────────────────────┼─────────────────────┼──────────────┤\n",
       "│ 1      │ 21742443 │ 2019-01-01 00:04:37 │ 2019-01-01 00:11:07 │ Subscriber   │\n",
       "│ 2      │ 21742446 │ 2019-01-01 00:13:45 │ 2019-01-01 00:43:28 │ Subscriber   │\n",
       "│ 3      │ 21742447 │ 2019-01-01 00:14:52 │ 2019-01-01 00:20:56 │ Subscriber   │\n",
       "│ 4      │ 21742449 │ 2019-01-01 00:16:06 │ 2019-01-01 00:19:03 │ Subscriber   │\n",
       "│ 5      │ 21742450 │ 2019-01-01 00:18:41 │ 2019-01-01 00:20:21 │ Subscriber   │\n",
       "│ 6      │ 21742451 │ 2019-01-01 00:18:43 │ 2019-01-01 00:47:30 │ Subscriber   │\n",
       "│ 7      │ 21742452 │ 2019-01-01 00:19:18 │ 2019-01-01 00:24:54 │ Subscriber   │\n",
       "│ 8      │ 21742453 │ 2019-01-01 00:20:34 │ 2019-01-01 00:35:20 │ Subscriber   │\n",
       "│ 9      │ 21742455 │ 2019-01-01 00:23:04 │ 2019-01-01 00:33:05 │ Subscriber   │\n",
       "│ 10     │ 21742459 │ 2019-01-01 00:24:13 │ 2019-01-01 00:31:00 │ Subscriber   │\n",
       "⋮\n",
       "│ 278429 │ 22178510 │ 2019-03-31 23:21:07 │ 2019-03-31 23:25:12 │ Subscriber   │\n",
       "│ 278430 │ 22178515 │ 2019-03-31 23:26:00 │ 2019-03-31 23:37:24 │ Subscriber   │\n",
       "│ 278431 │ 22178516 │ 2019-03-31 23:31:30 │ 2019-03-31 23:35:29 │ Subscriber   │\n",
       "│ 278432 │ 22178518 │ 2019-03-31 23:33:02 │ 2019-03-31 23:43:15 │ Subscriber   │\n",
       "│ 278433 │ 22178521 │ 2019-03-31 23:39:48 │ 2019-03-31 23:41:41 │ Subscriber   │\n",
       "│ 278434 │ 22178522 │ 2019-03-31 23:47:05 │ 2019-03-31 23:51:35 │ Subscriber   │\n",
       "│ 278435 │ 22178524 │ 2019-03-31 23:51:32 │ 2019-04-01 00:04:09 │ Subscriber   │\n",
       "│ 278436 │ 22178525 │ 2019-03-31 23:52:37 │ 2019-03-31 23:58:09 │ Subscriber   │\n",
       "│ 278437 │ 22178526 │ 2019-03-31 23:52:38 │ 2019-04-01 00:06:44 │ Subscriber   │\n",
       "│ 278438 │ 22178527 │ 2019-03-31 23:53:08 │ 2019-03-31 23:56:06 │ Subscriber   │\n",
       "│ 278439 │ 22178528 │ 2019-03-31 23:53:48 │ 2019-04-01 00:01:16 │ Subscriber   │\n",
       "⋮\n",
       "Last Group (66918 rows): genero = \"Female\". Omitted printing of 5 columns\n",
       "│ Row   │ codigo   │ tempo_inicial       │ tempo_final         │ tipo_usuario │\n",
       "│       │ \u001b[90mInt64\u001b[39m    │ \u001b[90mString\u001b[39m              │ \u001b[90mString\u001b[39m              │ \u001b[90mString\u001b[39m       │\n",
       "├───────┼──────────┼─────────────────────┼─────────────────────┼──────────────┤\n",
       "│ 1     │ 21742444 │ 2019-01-01 00:08:13 │ 2019-01-01 00:15:34 │ Subscriber   │\n",
       "│ 2     │ 21742445 │ 2019-01-01 00:13:23 │ 2019-01-01 00:27:12 │ Subscriber   │\n",
       "│ 3     │ 21742448 │ 2019-01-01 00:15:33 │ 2019-01-01 00:19:09 │ Subscriber   │\n",
       "│ 4     │ 21742454 │ 2019-01-01 00:21:52 │ 2019-01-01 00:32:45 │ Subscriber   │\n",
       "│ 5     │ 21742456 │ 2019-01-01 00:23:43 │ 2019-01-01 00:33:05 │ Customer     │\n",
       "│ 6     │ 21742457 │ 2019-01-01 00:23:54 │ 2019-01-01 00:39:00 │ Subscriber   │\n",
       "│ 7     │ 21742458 │ 2019-01-01 00:24:08 │ 2019-01-01 00:39:00 │ Subscriber   │\n",
       "│ 8     │ 21742460 │ 2019-01-01 00:24:27 │ 2019-01-01 00:47:03 │ Customer     │\n",
       "│ 9     │ 21742477 │ 2019-01-01 00:46:19 │ 2019-01-01 00:51:26 │ Subscriber   │\n",
       "│ 10    │ 21742486 │ 2019-01-01 00:58:55 │ 2019-01-01 01:07:50 │ Subscriber   │\n",
       "⋮\n",
       "│ 66908 │ 22178389 │ 2019-03-31 21:26:35 │ 2019-03-31 21:40:20 │ Subscriber   │\n",
       "│ 66909 │ 22178401 │ 2019-03-31 21:39:44 │ 2019-03-31 21:43:03 │ Subscriber   │\n",
       "│ 66910 │ 22178405 │ 2019-03-31 21:42:30 │ 2019-03-31 21:49:12 │ Subscriber   │\n",
       "│ 66911 │ 22178408 │ 2019-03-31 21:45:54 │ 2019-03-31 21:48:07 │ Subscriber   │\n",
       "│ 66912 │ 22178414 │ 2019-03-31 21:59:59 │ 2019-03-31 22:11:21 │ Subscriber   │\n",
       "│ 66913 │ 22178450 │ 2019-03-31 22:15:41 │ 2019-03-31 22:18:18 │ Subscriber   │\n",
       "│ 66914 │ 22178458 │ 2019-03-31 22:21:52 │ 2019-03-31 22:30:00 │ Subscriber   │\n",
       "│ 66915 │ 22178477 │ 2019-03-31 22:38:20 │ 2019-03-31 22:46:15 │ Subscriber   │\n",
       "│ 66916 │ 22178492 │ 2019-03-31 22:59:35 │ 2019-03-31 23:01:38 │ Subscriber   │\n",
       "│ 66917 │ 22178503 │ 2019-03-31 23:09:40 │ 2019-03-31 23:19:30 │ Subscriber   │\n",
       "│ 66918 │ 22178520 │ 2019-03-31 23:34:08 │ 2019-03-31 23:38:07 │ Subscriber   │"
      ]
     },
     "execution_count": 26,
     "metadata": {},
     "output_type": "execute_result"
    }
   ],
   "source": [
    "groupby(trips, [:genero])"
   ]
  },
  {
   "cell_type": "code",
   "execution_count": 27,
   "metadata": {},
   "outputs": [
    {
     "name": "stderr",
     "output_type": "stream",
     "text": [
      "┌ Warning: `by(d::AbstractDataFrame, cols::Any, f::Base.Callable; sort::Bool = false, skipmissing::Bool = false)` is deprecated, use `combine(f, groupby(d, cols, sort = sort, skipmissing = skipmissing))` instead.\n",
      "│   caller = top-level scope at In[27]:1\n",
      "└ @ Core In[27]:1\n"
     ]
    },
    {
     "data": {
      "text/html": [
       "<table class=\"data-frame\"><thead><tr><th></th><th>genero</th><th>x1</th></tr><tr><th></th><th>String</th><th>Float64</th></tr></thead><tbody><p>2 rows × 2 columns</p><tr><th>1</th><td>Male</td><td>14.0005</td></tr><tr><th>2</th><td>Female</td><td>15.3137</td></tr></tbody></table>"
      ],
      "text/latex": [
       "\\begin{tabular}{r|cc}\n",
       "\t& genero & x1\\\\\n",
       "\t\\hline\n",
       "\t& String & Float64\\\\\n",
       "\t\\hline\n",
       "\t1 & Male & 14.0005 \\\\\n",
       "\t2 & Female & 15.3137 \\\\\n",
       "\\end{tabular}\n"
      ],
      "text/plain": [
       "2×2 DataFrame\n",
       "│ Row │ genero │ x1      │\n",
       "│     │ \u001b[90mString\u001b[39m │ \u001b[90mFloat64\u001b[39m │\n",
       "├─────┼────────┼─────────┤\n",
       "│ 1   │ Male   │ 14.0005 │\n",
       "│ 2   │ Female │ 15.3137 │"
      ]
     },
     "execution_count": 27,
     "metadata": {},
     "output_type": "execute_result"
    }
   ],
   "source": [
    "by(trips, [:genero], trips -> mean(trips[:, :duracao]) / 60)"
   ]
  },
  {
   "cell_type": "code",
   "execution_count": 28,
   "metadata": {},
   "outputs": [
    {
     "data": {
      "text/plain": [
       "345357-element Array{Int64,1}:\n",
       " 1\n",
       " 1\n",
       " 1\n",
       " 1\n",
       " 1\n",
       " 1\n",
       " 1\n",
       " 1\n",
       " 1\n",
       " 1\n",
       " 1\n",
       " 1\n",
       " 1\n",
       " ⋮\n",
       " 1\n",
       " 1\n",
       " 1\n",
       " 1\n",
       " 1\n",
       " 1\n",
       " 1\n",
       " 1\n",
       " 1\n",
       " 1\n",
       " 1\n",
       " 1"
      ]
     },
     "execution_count": 28,
     "metadata": {},
     "output_type": "execute_result"
    }
   ],
   "source": [
    "trips[!, :count] .= 1"
   ]
  },
  {
   "cell_type": "code",
   "execution_count": 29,
   "metadata": {},
   "outputs": [
    {
     "data": {
      "text/html": [
       "<p><b>GroupedDataFrame with 72 groups based on key: idade</b></p><p><i>First Group (20914 rows): idade = 31</i></p><table class=\"data-frame\"><thead><tr><th></th><th>codigo</th><th>tempo_inicial</th><th>tempo_final</th><th>tipo_usuario</th><th>genero</th><th>ano_aniversario</th></tr><tr><th></th><th>Int64</th><th>String</th><th>String</th><th>String</th><th>String</th><th>Int64</th></tr></thead><tbody><tr><th>1</th><td>21742443</td><td>2019-01-01 00:04:37</td><td>2019-01-01 00:11:07</td><td>Subscriber</td><td>Male</td><td>1989</td></tr><tr><th>2</th><td>21742457</td><td>2019-01-01 00:23:54</td><td>2019-01-01 00:39:00</td><td>Subscriber</td><td>Female</td><td>1989</td></tr><tr><th>3</th><td>21742458</td><td>2019-01-01 00:24:08</td><td>2019-01-01 00:39:00</td><td>Subscriber</td><td>Female</td><td>1989</td></tr><tr><th>4</th><td>21742480</td><td>2019-01-01 00:51:55</td><td>2019-01-01 00:54:49</td><td>Subscriber</td><td>Male</td><td>1989</td></tr><tr><th>5</th><td>21742483</td><td>2019-01-01 00:58:09</td><td>2019-01-01 01:15:33</td><td>Subscriber</td><td>Male</td><td>1989</td></tr><tr><th>6</th><td>21742491</td><td>2019-01-01 01:04:33</td><td>2019-01-01 01:22:12</td><td>Customer</td><td>Female</td><td>1989</td></tr><tr><th>7</th><td>21742509</td><td>2019-01-01 01:27:25</td><td>2019-01-01 01:41:38</td><td>Subscriber</td><td>Male</td><td>1989</td></tr><tr><th>8</th><td>21742530</td><td>2019-01-01 01:49:30</td><td>2019-01-01 01:57:47</td><td>Subscriber</td><td>Female</td><td>1989</td></tr><tr><th>9</th><td>21742531</td><td>2019-01-01 01:49:30</td><td>2019-01-01 01:57:40</td><td>Subscriber</td><td>Male</td><td>1989</td></tr><tr><th>10</th><td>21742535</td><td>2019-01-01 01:54:11</td><td>2019-01-01 01:59:13</td><td>Subscriber</td><td>Male</td><td>1989</td></tr><tr><th>11</th><td>21742544</td><td>2019-01-01 02:11:14</td><td>2019-01-01 02:32:56</td><td>Subscriber</td><td>Male</td><td>1989</td></tr><tr><th>12</th><td>21742551</td><td>2019-01-01 02:23:37</td><td>2019-01-01 02:25:30</td><td>Subscriber</td><td>Male</td><td>1989</td></tr><tr><th>13</th><td>21742560</td><td>2019-01-01 02:32:38</td><td>2019-01-01 02:43:30</td><td>Subscriber</td><td>Male</td><td>1989</td></tr><tr><th>14</th><td>21742569</td><td>2019-01-01 02:47:31</td><td>2019-01-01 03:08:51</td><td>Subscriber</td><td>Male</td><td>1989</td></tr><tr><th>15</th><td>21742582</td><td>2019-01-01 03:16:06</td><td>2019-01-01 03:33:43</td><td>Subscriber</td><td>Male</td><td>1989</td></tr><tr><th>16</th><td>21742599</td><td>2019-01-01 04:08:51</td><td>2019-01-01 04:12:58</td><td>Subscriber</td><td>Female</td><td>1989</td></tr><tr><th>17</th><td>21742655</td><td>2019-01-01 08:11:48</td><td>2019-01-01 08:19:01</td><td>Subscriber</td><td>Male</td><td>1989</td></tr><tr><th>18</th><td>21742658</td><td>2019-01-01 08:19:15</td><td>2019-01-01 08:30:56</td><td>Subscriber</td><td>Male</td><td>1989</td></tr><tr><th>19</th><td>21742660</td><td>2019-01-01 08:31:04</td><td>2019-01-01 08:53:28</td><td>Subscriber</td><td>Male</td><td>1989</td></tr><tr><th>20</th><td>21742667</td><td>2019-01-01 08:48:27</td><td>2019-01-01 08:50:20</td><td>Subscriber</td><td>Male</td><td>1989</td></tr><tr><th>21</th><td>21742670</td><td>2019-01-01 08:53:33</td><td>2019-01-01 09:07:31</td><td>Subscriber</td><td>Male</td><td>1989</td></tr><tr><th>22</th><td>21742674</td><td>2019-01-01 08:54:46</td><td>2019-01-01 08:59:31</td><td>Subscriber</td><td>Male</td><td>1989</td></tr><tr><th>23</th><td>21742676</td><td>2019-01-01 08:59:17</td><td>2019-01-01 09:08:46</td><td>Subscriber</td><td>Female</td><td>1989</td></tr><tr><th>24</th><td>21742717</td><td>2019-01-01 09:30:39</td><td>2019-01-01 09:32:31</td><td>Subscriber</td><td>Male</td><td>1989</td></tr><tr><th>25</th><td>21742724</td><td>2019-01-01 09:40:07</td><td>2019-01-01 09:51:30</td><td>Subscriber</td><td>Female</td><td>1989</td></tr><tr><th>26</th><td>21742732</td><td>2019-01-01 09:47:47</td><td>2019-01-01 10:08:13</td><td>Subscriber</td><td>Male</td><td>1989</td></tr><tr><th>27</th><td>21742737</td><td>2019-01-01 09:51:54</td><td>2019-01-01 09:58:01</td><td>Subscriber</td><td>Male</td><td>1989</td></tr><tr><th>28</th><td>21742738</td><td>2019-01-01 09:53:04</td><td>2019-01-01 10:04:07</td><td>Subscriber</td><td>Male</td><td>1989</td></tr><tr><th>29</th><td>21742741</td><td>2019-01-01 09:55:09</td><td>2019-01-01 10:08:20</td><td>Subscriber</td><td>Male</td><td>1989</td></tr><tr><th>30</th><td>21742752</td><td>2019-01-01 10:02:52</td><td>2019-01-01 10:10:03</td><td>Subscriber</td><td>Female</td><td>1989</td></tr><tr><th>&vellip;</th><td>&vellip;</td><td>&vellip;</td><td>&vellip;</td><td>&vellip;</td><td>&vellip;</td><td>&vellip;</td></tr></tbody></table><p>&vellip;</p><p><i>Last Group (2 rows): idade = 89</i></p><table class=\"data-frame\"><thead><tr><th></th><th>codigo</th><th>tempo_inicial</th><th>tempo_final</th><th>tipo_usuario</th><th>genero</th><th>ano_aniversario</th></tr><tr><th></th><th>Int64</th><th>String</th><th>String</th><th>String</th><th>String</th><th>Int64</th></tr></thead><tbody><tr><th>1</th><td>22147296</td><td>2019-03-27 17:02:00</td><td>2019-03-27 17:07:55</td><td>Subscriber</td><td>Female</td><td>1931</td></tr><tr><th>2</th><td>22158790</td><td>2019-03-28 17:07:28</td><td>2019-03-28 17:13:17</td><td>Subscriber</td><td>Female</td><td>1931</td></tr></tbody></table>"
      ],
      "text/latex": [
       "GroupedDataFrame with 72 groups based on key: idade\n",
       "\n",
       "First Group (20914 rows): idade = 31\n",
       "\n",
       "\\begin{tabular}{r|ccccccc}\n",
       "\t& codigo & tempo\\_inicial & tempo\\_final & tipo\\_usuario & genero & ano\\_aniversario & \\\\\n",
       "\t\\hline\n",
       "\t& Int64 & String & String & String & String & Int64 & \\\\\n",
       "\t\\hline\n",
       "\t1 & 21742443 & 2019-01-01 00:04:37 & 2019-01-01 00:11:07 & Subscriber & Male & 1989 & $\\dots$ \\\\\n",
       "\t2 & 21742457 & 2019-01-01 00:23:54 & 2019-01-01 00:39:00 & Subscriber & Female & 1989 & $\\dots$ \\\\\n",
       "\t3 & 21742458 & 2019-01-01 00:24:08 & 2019-01-01 00:39:00 & Subscriber & Female & 1989 & $\\dots$ \\\\\n",
       "\t4 & 21742480 & 2019-01-01 00:51:55 & 2019-01-01 00:54:49 & Subscriber & Male & 1989 & $\\dots$ \\\\\n",
       "\t5 & 21742483 & 2019-01-01 00:58:09 & 2019-01-01 01:15:33 & Subscriber & Male & 1989 & $\\dots$ \\\\\n",
       "\t6 & 21742491 & 2019-01-01 01:04:33 & 2019-01-01 01:22:12 & Customer & Female & 1989 & $\\dots$ \\\\\n",
       "\t7 & 21742509 & 2019-01-01 01:27:25 & 2019-01-01 01:41:38 & Subscriber & Male & 1989 & $\\dots$ \\\\\n",
       "\t8 & 21742530 & 2019-01-01 01:49:30 & 2019-01-01 01:57:47 & Subscriber & Female & 1989 & $\\dots$ \\\\\n",
       "\t9 & 21742531 & 2019-01-01 01:49:30 & 2019-01-01 01:57:40 & Subscriber & Male & 1989 & $\\dots$ \\\\\n",
       "\t10 & 21742535 & 2019-01-01 01:54:11 & 2019-01-01 01:59:13 & Subscriber & Male & 1989 & $\\dots$ \\\\\n",
       "\t11 & 21742544 & 2019-01-01 02:11:14 & 2019-01-01 02:32:56 & Subscriber & Male & 1989 & $\\dots$ \\\\\n",
       "\t12 & 21742551 & 2019-01-01 02:23:37 & 2019-01-01 02:25:30 & Subscriber & Male & 1989 & $\\dots$ \\\\\n",
       "\t13 & 21742560 & 2019-01-01 02:32:38 & 2019-01-01 02:43:30 & Subscriber & Male & 1989 & $\\dots$ \\\\\n",
       "\t14 & 21742569 & 2019-01-01 02:47:31 & 2019-01-01 03:08:51 & Subscriber & Male & 1989 & $\\dots$ \\\\\n",
       "\t15 & 21742582 & 2019-01-01 03:16:06 & 2019-01-01 03:33:43 & Subscriber & Male & 1989 & $\\dots$ \\\\\n",
       "\t16 & 21742599 & 2019-01-01 04:08:51 & 2019-01-01 04:12:58 & Subscriber & Female & 1989 & $\\dots$ \\\\\n",
       "\t17 & 21742655 & 2019-01-01 08:11:48 & 2019-01-01 08:19:01 & Subscriber & Male & 1989 & $\\dots$ \\\\\n",
       "\t18 & 21742658 & 2019-01-01 08:19:15 & 2019-01-01 08:30:56 & Subscriber & Male & 1989 & $\\dots$ \\\\\n",
       "\t19 & 21742660 & 2019-01-01 08:31:04 & 2019-01-01 08:53:28 & Subscriber & Male & 1989 & $\\dots$ \\\\\n",
       "\t20 & 21742667 & 2019-01-01 08:48:27 & 2019-01-01 08:50:20 & Subscriber & Male & 1989 & $\\dots$ \\\\\n",
       "\t21 & 21742670 & 2019-01-01 08:53:33 & 2019-01-01 09:07:31 & Subscriber & Male & 1989 & $\\dots$ \\\\\n",
       "\t22 & 21742674 & 2019-01-01 08:54:46 & 2019-01-01 08:59:31 & Subscriber & Male & 1989 & $\\dots$ \\\\\n",
       "\t23 & 21742676 & 2019-01-01 08:59:17 & 2019-01-01 09:08:46 & Subscriber & Female & 1989 & $\\dots$ \\\\\n",
       "\t24 & 21742717 & 2019-01-01 09:30:39 & 2019-01-01 09:32:31 & Subscriber & Male & 1989 & $\\dots$ \\\\\n",
       "\t25 & 21742724 & 2019-01-01 09:40:07 & 2019-01-01 09:51:30 & Subscriber & Female & 1989 & $\\dots$ \\\\\n",
       "\t26 & 21742732 & 2019-01-01 09:47:47 & 2019-01-01 10:08:13 & Subscriber & Male & 1989 & $\\dots$ \\\\\n",
       "\t27 & 21742737 & 2019-01-01 09:51:54 & 2019-01-01 09:58:01 & Subscriber & Male & 1989 & $\\dots$ \\\\\n",
       "\t28 & 21742738 & 2019-01-01 09:53:04 & 2019-01-01 10:04:07 & Subscriber & Male & 1989 & $\\dots$ \\\\\n",
       "\t29 & 21742741 & 2019-01-01 09:55:09 & 2019-01-01 10:08:20 & Subscriber & Male & 1989 & $\\dots$ \\\\\n",
       "\t30 & 21742752 & 2019-01-01 10:02:52 & 2019-01-01 10:10:03 & Subscriber & Female & 1989 & $\\dots$ \\\\\n",
       "\t$\\dots$ & $\\dots$ & $\\dots$ & $\\dots$ & $\\dots$ & $\\dots$ & $\\dots$ &  \\\\\n",
       "\\end{tabular}\n",
       "\n",
       "$\\dots$\n",
       "\n",
       "Last Group (2 rows): idade = 89\n",
       "\n",
       "\\begin{tabular}{r|ccccccc}\n",
       "\t& codigo & tempo\\_inicial & tempo\\_final & tipo\\_usuario & genero & ano\\_aniversario & \\\\\n",
       "\t\\hline\n",
       "\t& Int64 & String & String & String & String & Int64 & \\\\\n",
       "\t\\hline\n",
       "\t1 & 22147296 & 2019-03-27 17:02:00 & 2019-03-27 17:07:55 & Subscriber & Female & 1931 & $\\dots$ \\\\\n",
       "\t2 & 22158790 & 2019-03-28 17:07:28 & 2019-03-28 17:13:17 & Subscriber & Female & 1931 & $\\dots$ \\\\\n",
       "\\end{tabular}\n"
      ],
      "text/plain": [
       "GroupedDataFrame with 72 groups based on key: idade\n",
       "First Group (20914 rows): idade = 31. Omitted printing of 6 columns\n",
       "│ Row   │ codigo   │ tempo_inicial       │ tempo_final         │ tipo_usuario │\n",
       "│       │ \u001b[90mInt64\u001b[39m    │ \u001b[90mString\u001b[39m              │ \u001b[90mString\u001b[39m              │ \u001b[90mString\u001b[39m       │\n",
       "├───────┼──────────┼─────────────────────┼─────────────────────┼──────────────┤\n",
       "│ 1     │ 21742443 │ 2019-01-01 00:04:37 │ 2019-01-01 00:11:07 │ Subscriber   │\n",
       "│ 2     │ 21742457 │ 2019-01-01 00:23:54 │ 2019-01-01 00:39:00 │ Subscriber   │\n",
       "│ 3     │ 21742458 │ 2019-01-01 00:24:08 │ 2019-01-01 00:39:00 │ Subscriber   │\n",
       "│ 4     │ 21742480 │ 2019-01-01 00:51:55 │ 2019-01-01 00:54:49 │ Subscriber   │\n",
       "│ 5     │ 21742483 │ 2019-01-01 00:58:09 │ 2019-01-01 01:15:33 │ Subscriber   │\n",
       "│ 6     │ 21742491 │ 2019-01-01 01:04:33 │ 2019-01-01 01:22:12 │ Customer     │\n",
       "│ 7     │ 21742509 │ 2019-01-01 01:27:25 │ 2019-01-01 01:41:38 │ Subscriber   │\n",
       "│ 8     │ 21742530 │ 2019-01-01 01:49:30 │ 2019-01-01 01:57:47 │ Subscriber   │\n",
       "│ 9     │ 21742531 │ 2019-01-01 01:49:30 │ 2019-01-01 01:57:40 │ Subscriber   │\n",
       "│ 10    │ 21742535 │ 2019-01-01 01:54:11 │ 2019-01-01 01:59:13 │ Subscriber   │\n",
       "⋮\n",
       "│ 20904 │ 22178218 │ 2019-03-31 19:48:41 │ 2019-03-31 20:10:34 │ Subscriber   │\n",
       "│ 20905 │ 22178219 │ 2019-03-31 19:48:39 │ 2019-03-31 19:50:44 │ Subscriber   │\n",
       "│ 20906 │ 22178275 │ 2019-03-31 20:13:32 │ 2019-03-31 20:18:52 │ Subscriber   │\n",
       "│ 20907 │ 22178328 │ 2019-03-31 20:46:05 │ 2019-03-31 20:57:29 │ Subscriber   │\n",
       "│ 20908 │ 22178337 │ 2019-03-31 20:51:21 │ 2019-03-31 20:55:47 │ Subscriber   │\n",
       "│ 20909 │ 22178353 │ 2019-03-31 21:09:36 │ 2019-03-31 21:17:58 │ Subscriber   │\n",
       "│ 20910 │ 22178399 │ 2019-03-31 21:36:50 │ 2019-03-31 21:54:33 │ Subscriber   │\n",
       "│ 20911 │ 22178412 │ 2019-03-31 21:54:46 │ 2019-03-31 22:05:13 │ Subscriber   │\n",
       "│ 20912 │ 22178413 │ 2019-03-31 21:57:17 │ 2019-03-31 22:11:12 │ Subscriber   │\n",
       "│ 20913 │ 22178427 │ 2019-03-31 22:05:26 │ 2019-03-31 22:18:46 │ Subscriber   │\n",
       "│ 20914 │ 22178446 │ 2019-03-31 22:13:21 │ 2019-03-31 22:16:47 │ Subscriber   │\n",
       "⋮\n",
       "Last Group (2 rows): idade = 89. Omitted printing of 6 columns\n",
       "│ Row │ codigo   │ tempo_inicial       │ tempo_final         │ tipo_usuario │\n",
       "│     │ \u001b[90mInt64\u001b[39m    │ \u001b[90mString\u001b[39m              │ \u001b[90mString\u001b[39m              │ \u001b[90mString\u001b[39m       │\n",
       "├─────┼──────────┼─────────────────────┼─────────────────────┼──────────────┤\n",
       "│ 1   │ 22147296 │ 2019-03-27 17:02:00 │ 2019-03-27 17:07:55 │ Subscriber   │\n",
       "│ 2   │ 22158790 │ 2019-03-28 17:07:28 │ 2019-03-28 17:13:17 │ Subscriber   │"
      ]
     },
     "execution_count": 29,
     "metadata": {},
     "output_type": "execute_result"
    }
   ],
   "source": [
    "groupby(trips, [:idade])"
   ]
  },
  {
   "cell_type": "code",
   "execution_count": 30,
   "metadata": {},
   "outputs": [
    {
     "name": "stderr",
     "output_type": "stream",
     "text": [
      "┌ Warning: `by(d::AbstractDataFrame, cols::Any, f::Base.Callable; sort::Bool = false, skipmissing::Bool = false)` is deprecated, use `combine(f, groupby(d, cols, sort = sort, skipmissing = skipmissing))` instead.\n",
      "│   caller = ip:0x0\n",
      "└ @ Core :-1\n"
     ]
    },
    {
     "data": {
      "text/html": [
       "<table class=\"data-frame\"><thead><tr><th></th><th>idade</th><th>x1</th></tr><tr><th></th><th>Int64</th><th>Float64</th></tr></thead><tbody><p>72 rows × 2 columns</p><tr><th>1</th><td>17</td><td>28.7333</td></tr><tr><th>2</th><td>18</td><td>56.6646</td></tr><tr><th>3</th><td>19</td><td>40.8246</td></tr><tr><th>4</th><td>20</td><td>55.5932</td></tr><tr><th>5</th><td>21</td><td>18.3095</td></tr><tr><th>6</th><td>22</td><td>12.7823</td></tr><tr><th>7</th><td>23</td><td>20.6791</td></tr><tr><th>8</th><td>24</td><td>17.4445</td></tr><tr><th>9</th><td>25</td><td>11.3894</td></tr><tr><th>10</th><td>26</td><td>12.4472</td></tr><tr><th>11</th><td>27</td><td>12.0018</td></tr><tr><th>12</th><td>28</td><td>16.0414</td></tr><tr><th>13</th><td>29</td><td>19.6404</td></tr><tr><th>14</th><td>30</td><td>18.2434</td></tr><tr><th>15</th><td>31</td><td>16.3806</td></tr><tr><th>16</th><td>32</td><td>12.3992</td></tr><tr><th>17</th><td>33</td><td>13.324</td></tr><tr><th>18</th><td>34</td><td>13.4763</td></tr><tr><th>19</th><td>35</td><td>13.8044</td></tr><tr><th>20</th><td>36</td><td>12.5216</td></tr><tr><th>21</th><td>37</td><td>21.0653</td></tr><tr><th>22</th><td>38</td><td>11.3438</td></tr><tr><th>23</th><td>39</td><td>10.7766</td></tr><tr><th>24</th><td>40</td><td>13.105</td></tr><tr><th>25</th><td>41</td><td>11.7978</td></tr><tr><th>26</th><td>42</td><td>12.2263</td></tr><tr><th>27</th><td>43</td><td>12.6876</td></tr><tr><th>28</th><td>44</td><td>11.7217</td></tr><tr><th>29</th><td>45</td><td>12.5791</td></tr><tr><th>30</th><td>46</td><td>17.3961</td></tr><tr><th>&vellip;</th><td>&vellip;</td><td>&vellip;</td></tr></tbody></table>"
      ],
      "text/latex": [
       "\\begin{tabular}{r|cc}\n",
       "\t& idade & x1\\\\\n",
       "\t\\hline\n",
       "\t& Int64 & Float64\\\\\n",
       "\t\\hline\n",
       "\t1 & 17 & 28.7333 \\\\\n",
       "\t2 & 18 & 56.6646 \\\\\n",
       "\t3 & 19 & 40.8246 \\\\\n",
       "\t4 & 20 & 55.5932 \\\\\n",
       "\t5 & 21 & 18.3095 \\\\\n",
       "\t6 & 22 & 12.7823 \\\\\n",
       "\t7 & 23 & 20.6791 \\\\\n",
       "\t8 & 24 & 17.4445 \\\\\n",
       "\t9 & 25 & 11.3894 \\\\\n",
       "\t10 & 26 & 12.4472 \\\\\n",
       "\t11 & 27 & 12.0018 \\\\\n",
       "\t12 & 28 & 16.0414 \\\\\n",
       "\t13 & 29 & 19.6404 \\\\\n",
       "\t14 & 30 & 18.2434 \\\\\n",
       "\t15 & 31 & 16.3806 \\\\\n",
       "\t16 & 32 & 12.3992 \\\\\n",
       "\t17 & 33 & 13.324 \\\\\n",
       "\t18 & 34 & 13.4763 \\\\\n",
       "\t19 & 35 & 13.8044 \\\\\n",
       "\t20 & 36 & 12.5216 \\\\\n",
       "\t21 & 37 & 21.0653 \\\\\n",
       "\t22 & 38 & 11.3438 \\\\\n",
       "\t23 & 39 & 10.7766 \\\\\n",
       "\t24 & 40 & 13.105 \\\\\n",
       "\t25 & 41 & 11.7978 \\\\\n",
       "\t26 & 42 & 12.2263 \\\\\n",
       "\t27 & 43 & 12.6876 \\\\\n",
       "\t28 & 44 & 11.7217 \\\\\n",
       "\t29 & 45 & 12.5791 \\\\\n",
       "\t30 & 46 & 17.3961 \\\\\n",
       "\t$\\dots$ & $\\dots$ & $\\dots$ \\\\\n",
       "\\end{tabular}\n"
      ],
      "text/plain": [
       "72×2 DataFrame\n",
       "│ Row │ idade │ x1      │\n",
       "│     │ \u001b[90mInt64\u001b[39m │ \u001b[90mFloat64\u001b[39m │\n",
       "├─────┼───────┼─────────┤\n",
       "│ 1   │ 17    │ 28.7333 │\n",
       "│ 2   │ 18    │ 56.6646 │\n",
       "│ 3   │ 19    │ 40.8246 │\n",
       "│ 4   │ 20    │ 55.5932 │\n",
       "│ 5   │ 21    │ 18.3095 │\n",
       "│ 6   │ 22    │ 12.7823 │\n",
       "│ 7   │ 23    │ 20.6791 │\n",
       "│ 8   │ 24    │ 17.4445 │\n",
       "│ 9   │ 25    │ 11.3894 │\n",
       "│ 10  │ 26    │ 12.4472 │\n",
       "⋮\n",
       "│ 62  │ 78    │ 6.24379 │\n",
       "│ 63  │ 79    │ 6.65    │\n",
       "│ 64  │ 80    │ 8.81839 │\n",
       "│ 65  │ 81    │ 9.74487 │\n",
       "│ 66  │ 82    │ 258.867 │\n",
       "│ 67  │ 86    │ 14.5233 │\n",
       "│ 68  │ 87    │ 21.3643 │\n",
       "│ 69  │ 89    │ 5.86667 │\n",
       "│ 70  │ 99    │ 6.60528 │\n",
       "│ 71  │ 102   │ 19.2908 │\n",
       "│ 72  │ 120   │ 12.4249 │"
      ]
     },
     "execution_count": 30,
     "metadata": {},
     "output_type": "execute_result"
    }
   ],
   "source": [
    "by(trips, [:idade], trips -> mean(trips[:, :duracao]) / 60, sort=true)"
   ]
  },
  {
   "cell_type": "code",
   "execution_count": 31,
   "metadata": {},
   "outputs": [
    {
     "data": {
      "text/plain": [
       "10-element Array{String,1}:\n",
       " \"codigo\"\n",
       " \"tempo_inicial\"\n",
       " \"tempo_final\"\n",
       " \"tipo_usuario\"\n",
       " \"genero\"\n",
       " \"ano_aniversario\"\n",
       " \"duracao_minutos\"\n",
       " \"duracao\"\n",
       " \"idade\"\n",
       " \"count\""
      ]
     },
     "execution_count": 31,
     "metadata": {},
     "output_type": "execute_result"
    }
   ],
   "source": [
    "names(trips)"
   ]
  },
  {
   "cell_type": "code",
   "execution_count": 36,
   "metadata": {},
   "outputs": [
    {
     "data": {
      "text/html": [
       "<table class=\"data-frame\"><thead><tr><th></th><th>codigo</th><th>tempo_inicial</th><th>tempo_final</th><th>tipo_usuario</th><th>genero</th><th>duracao</th></tr><tr><th></th><th>Int64</th><th>String</th><th>String</th><th>String</th><th>String</th><th>Float64</th></tr></thead><tbody><p>345,357 rows × 8 columns (omitted printing of 2 columns)</p><tr><th>1</th><td>21742443</td><td>2019-01-01 00:04:37</td><td>2019-01-01 00:11:07</td><td>Subscriber</td><td>Male</td><td>390.0</td></tr><tr><th>2</th><td>21742444</td><td>2019-01-01 00:08:13</td><td>2019-01-01 00:15:34</td><td>Subscriber</td><td>Female</td><td>441.0</td></tr><tr><th>3</th><td>21742445</td><td>2019-01-01 00:13:23</td><td>2019-01-01 00:27:12</td><td>Subscriber</td><td>Female</td><td>829.0</td></tr><tr><th>4</th><td>21742446</td><td>2019-01-01 00:13:45</td><td>2019-01-01 00:43:28</td><td>Subscriber</td><td>Male</td><td>1783.0</td></tr><tr><th>5</th><td>21742447</td><td>2019-01-01 00:14:52</td><td>2019-01-01 00:20:56</td><td>Subscriber</td><td>Male</td><td>364.0</td></tr><tr><th>6</th><td>21742448</td><td>2019-01-01 00:15:33</td><td>2019-01-01 00:19:09</td><td>Subscriber</td><td>Female</td><td>216.0</td></tr><tr><th>7</th><td>21742449</td><td>2019-01-01 00:16:06</td><td>2019-01-01 00:19:03</td><td>Subscriber</td><td>Male</td><td>177.0</td></tr><tr><th>8</th><td>21742450</td><td>2019-01-01 00:18:41</td><td>2019-01-01 00:20:21</td><td>Subscriber</td><td>Male</td><td>100.0</td></tr><tr><th>9</th><td>21742451</td><td>2019-01-01 00:18:43</td><td>2019-01-01 00:47:30</td><td>Subscriber</td><td>Male</td><td>1727.0</td></tr><tr><th>10</th><td>21742452</td><td>2019-01-01 00:19:18</td><td>2019-01-01 00:24:54</td><td>Subscriber</td><td>Male</td><td>336.0</td></tr><tr><th>11</th><td>21742453</td><td>2019-01-01 00:20:34</td><td>2019-01-01 00:35:20</td><td>Subscriber</td><td>Male</td><td>886.0</td></tr><tr><th>12</th><td>21742454</td><td>2019-01-01 00:21:52</td><td>2019-01-01 00:32:45</td><td>Subscriber</td><td>Female</td><td>653.0</td></tr><tr><th>13</th><td>21742455</td><td>2019-01-01 00:23:04</td><td>2019-01-01 00:33:05</td><td>Subscriber</td><td>Male</td><td>601.0</td></tr><tr><th>14</th><td>21742456</td><td>2019-01-01 00:23:43</td><td>2019-01-01 00:33:05</td><td>Customer</td><td>Female</td><td>562.0</td></tr><tr><th>15</th><td>21742457</td><td>2019-01-01 00:23:54</td><td>2019-01-01 00:39:00</td><td>Subscriber</td><td>Female</td><td>906.0</td></tr><tr><th>16</th><td>21742458</td><td>2019-01-01 00:24:08</td><td>2019-01-01 00:39:00</td><td>Subscriber</td><td>Female</td><td>892.0</td></tr><tr><th>17</th><td>21742459</td><td>2019-01-01 00:24:13</td><td>2019-01-01 00:31:00</td><td>Subscriber</td><td>Male</td><td>407.0</td></tr><tr><th>18</th><td>21742460</td><td>2019-01-01 00:24:27</td><td>2019-01-01 00:47:03</td><td>Customer</td><td>Female</td><td>1356.0</td></tr><tr><th>19</th><td>21742461</td><td>2019-01-01 00:25:28</td><td>2019-01-01 00:27:10</td><td>Subscriber</td><td>Male</td><td>102.0</td></tr><tr><th>20</th><td>21742464</td><td>2019-01-01 00:29:21</td><td>2019-01-01 00:45:21</td><td>Subscriber</td><td>Male</td><td>960.0</td></tr><tr><th>21</th><td>21742466</td><td>2019-01-01 00:29:47</td><td>2019-01-01 00:49:15</td><td>Subscriber</td><td>Male</td><td>1168.0</td></tr><tr><th>22</th><td>21742467</td><td>2019-01-01 00:30:48</td><td>2019-01-01 00:38:42</td><td>Subscriber</td><td>Male</td><td>474.0</td></tr><tr><th>23</th><td>21742468</td><td>2019-01-01 00:33:09</td><td>2019-01-01 00:50:25</td><td>Subscriber</td><td>Male</td><td>1036.0</td></tr><tr><th>24</th><td>21742469</td><td>2019-01-01 00:34:35</td><td>2019-01-01 00:38:25</td><td>Subscriber</td><td>Male</td><td>230.0</td></tr><tr><th>25</th><td>21742471</td><td>2019-01-01 00:38:11</td><td>2019-01-01 00:50:38</td><td>Subscriber</td><td>Male</td><td>747.0</td></tr><tr><th>26</th><td>21742472</td><td>2019-01-01 00:38:47</td><td>2019-01-01 00:50:38</td><td>Subscriber</td><td>Male</td><td>711.0</td></tr><tr><th>27</th><td>21742473</td><td>2019-01-01 00:40:16</td><td>2019-01-01 00:49:29</td><td>Subscriber</td><td>Male</td><td>553.0</td></tr><tr><th>28</th><td>21742474</td><td>2019-01-01 00:41:46</td><td>2019-01-01 00:50:27</td><td>Subscriber</td><td>Male</td><td>521.0</td></tr><tr><th>29</th><td>21742475</td><td>2019-01-01 00:45:37</td><td>2019-01-01 01:17:51</td><td>Subscriber</td><td>Male</td><td>1934.0</td></tr><tr><th>30</th><td>21742476</td><td>2019-01-01 00:45:45</td><td>2019-01-01 00:50:00</td><td>Subscriber</td><td>Male</td><td>255.0</td></tr><tr><th>&vellip;</th><td>&vellip;</td><td>&vellip;</td><td>&vellip;</td><td>&vellip;</td><td>&vellip;</td><td>&vellip;</td></tr></tbody></table>"
      ],
      "text/latex": [
       "\\begin{tabular}{r|ccccccc}\n",
       "\t& codigo & tempo\\_inicial & tempo\\_final & tipo\\_usuario & genero & duracao & \\\\\n",
       "\t\\hline\n",
       "\t& Int64 & String & String & String & String & Float64 & \\\\\n",
       "\t\\hline\n",
       "\t1 & 21742443 & 2019-01-01 00:04:37 & 2019-01-01 00:11:07 & Subscriber & Male & 390.0 & $\\dots$ \\\\\n",
       "\t2 & 21742444 & 2019-01-01 00:08:13 & 2019-01-01 00:15:34 & Subscriber & Female & 441.0 & $\\dots$ \\\\\n",
       "\t3 & 21742445 & 2019-01-01 00:13:23 & 2019-01-01 00:27:12 & Subscriber & Female & 829.0 & $\\dots$ \\\\\n",
       "\t4 & 21742446 & 2019-01-01 00:13:45 & 2019-01-01 00:43:28 & Subscriber & Male & 1783.0 & $\\dots$ \\\\\n",
       "\t5 & 21742447 & 2019-01-01 00:14:52 & 2019-01-01 00:20:56 & Subscriber & Male & 364.0 & $\\dots$ \\\\\n",
       "\t6 & 21742448 & 2019-01-01 00:15:33 & 2019-01-01 00:19:09 & Subscriber & Female & 216.0 & $\\dots$ \\\\\n",
       "\t7 & 21742449 & 2019-01-01 00:16:06 & 2019-01-01 00:19:03 & Subscriber & Male & 177.0 & $\\dots$ \\\\\n",
       "\t8 & 21742450 & 2019-01-01 00:18:41 & 2019-01-01 00:20:21 & Subscriber & Male & 100.0 & $\\dots$ \\\\\n",
       "\t9 & 21742451 & 2019-01-01 00:18:43 & 2019-01-01 00:47:30 & Subscriber & Male & 1727.0 & $\\dots$ \\\\\n",
       "\t10 & 21742452 & 2019-01-01 00:19:18 & 2019-01-01 00:24:54 & Subscriber & Male & 336.0 & $\\dots$ \\\\\n",
       "\t11 & 21742453 & 2019-01-01 00:20:34 & 2019-01-01 00:35:20 & Subscriber & Male & 886.0 & $\\dots$ \\\\\n",
       "\t12 & 21742454 & 2019-01-01 00:21:52 & 2019-01-01 00:32:45 & Subscriber & Female & 653.0 & $\\dots$ \\\\\n",
       "\t13 & 21742455 & 2019-01-01 00:23:04 & 2019-01-01 00:33:05 & Subscriber & Male & 601.0 & $\\dots$ \\\\\n",
       "\t14 & 21742456 & 2019-01-01 00:23:43 & 2019-01-01 00:33:05 & Customer & Female & 562.0 & $\\dots$ \\\\\n",
       "\t15 & 21742457 & 2019-01-01 00:23:54 & 2019-01-01 00:39:00 & Subscriber & Female & 906.0 & $\\dots$ \\\\\n",
       "\t16 & 21742458 & 2019-01-01 00:24:08 & 2019-01-01 00:39:00 & Subscriber & Female & 892.0 & $\\dots$ \\\\\n",
       "\t17 & 21742459 & 2019-01-01 00:24:13 & 2019-01-01 00:31:00 & Subscriber & Male & 407.0 & $\\dots$ \\\\\n",
       "\t18 & 21742460 & 2019-01-01 00:24:27 & 2019-01-01 00:47:03 & Customer & Female & 1356.0 & $\\dots$ \\\\\n",
       "\t19 & 21742461 & 2019-01-01 00:25:28 & 2019-01-01 00:27:10 & Subscriber & Male & 102.0 & $\\dots$ \\\\\n",
       "\t20 & 21742464 & 2019-01-01 00:29:21 & 2019-01-01 00:45:21 & Subscriber & Male & 960.0 & $\\dots$ \\\\\n",
       "\t21 & 21742466 & 2019-01-01 00:29:47 & 2019-01-01 00:49:15 & Subscriber & Male & 1168.0 & $\\dots$ \\\\\n",
       "\t22 & 21742467 & 2019-01-01 00:30:48 & 2019-01-01 00:38:42 & Subscriber & Male & 474.0 & $\\dots$ \\\\\n",
       "\t23 & 21742468 & 2019-01-01 00:33:09 & 2019-01-01 00:50:25 & Subscriber & Male & 1036.0 & $\\dots$ \\\\\n",
       "\t24 & 21742469 & 2019-01-01 00:34:35 & 2019-01-01 00:38:25 & Subscriber & Male & 230.0 & $\\dots$ \\\\\n",
       "\t25 & 21742471 & 2019-01-01 00:38:11 & 2019-01-01 00:50:38 & Subscriber & Male & 747.0 & $\\dots$ \\\\\n",
       "\t26 & 21742472 & 2019-01-01 00:38:47 & 2019-01-01 00:50:38 & Subscriber & Male & 711.0 & $\\dots$ \\\\\n",
       "\t27 & 21742473 & 2019-01-01 00:40:16 & 2019-01-01 00:49:29 & Subscriber & Male & 553.0 & $\\dots$ \\\\\n",
       "\t28 & 21742474 & 2019-01-01 00:41:46 & 2019-01-01 00:50:27 & Subscriber & Male & 521.0 & $\\dots$ \\\\\n",
       "\t29 & 21742475 & 2019-01-01 00:45:37 & 2019-01-01 01:17:51 & Subscriber & Male & 1934.0 & $\\dots$ \\\\\n",
       "\t30 & 21742476 & 2019-01-01 00:45:45 & 2019-01-01 00:50:00 & Subscriber & Male & 255.0 & $\\dots$ \\\\\n",
       "\t$\\dots$ & $\\dots$ & $\\dots$ & $\\dots$ & $\\dots$ & $\\dots$ & $\\dots$ &  \\\\\n",
       "\\end{tabular}\n"
      ],
      "text/plain": [
       "345357×8 DataFrame. Omitted printing of 4 columns\n",
       "│ Row    │ codigo   │ tempo_inicial       │ tempo_final         │ tipo_usuario │\n",
       "│        │ \u001b[90mInt64\u001b[39m    │ \u001b[90mString\u001b[39m              │ \u001b[90mString\u001b[39m              │ \u001b[90mString\u001b[39m       │\n",
       "├────────┼──────────┼─────────────────────┼─────────────────────┼──────────────┤\n",
       "│ 1      │ 21742443 │ 2019-01-01 00:04:37 │ 2019-01-01 00:11:07 │ Subscriber   │\n",
       "│ 2      │ 21742444 │ 2019-01-01 00:08:13 │ 2019-01-01 00:15:34 │ Subscriber   │\n",
       "│ 3      │ 21742445 │ 2019-01-01 00:13:23 │ 2019-01-01 00:27:12 │ Subscriber   │\n",
       "│ 4      │ 21742446 │ 2019-01-01 00:13:45 │ 2019-01-01 00:43:28 │ Subscriber   │\n",
       "│ 5      │ 21742447 │ 2019-01-01 00:14:52 │ 2019-01-01 00:20:56 │ Subscriber   │\n",
       "│ 6      │ 21742448 │ 2019-01-01 00:15:33 │ 2019-01-01 00:19:09 │ Subscriber   │\n",
       "│ 7      │ 21742449 │ 2019-01-01 00:16:06 │ 2019-01-01 00:19:03 │ Subscriber   │\n",
       "│ 8      │ 21742450 │ 2019-01-01 00:18:41 │ 2019-01-01 00:20:21 │ Subscriber   │\n",
       "│ 9      │ 21742451 │ 2019-01-01 00:18:43 │ 2019-01-01 00:47:30 │ Subscriber   │\n",
       "│ 10     │ 21742452 │ 2019-01-01 00:19:18 │ 2019-01-01 00:24:54 │ Subscriber   │\n",
       "⋮\n",
       "│ 345347 │ 22178515 │ 2019-03-31 23:26:00 │ 2019-03-31 23:37:24 │ Subscriber   │\n",
       "│ 345348 │ 22178516 │ 2019-03-31 23:31:30 │ 2019-03-31 23:35:29 │ Subscriber   │\n",
       "│ 345349 │ 22178518 │ 2019-03-31 23:33:02 │ 2019-03-31 23:43:15 │ Subscriber   │\n",
       "│ 345350 │ 22178520 │ 2019-03-31 23:34:08 │ 2019-03-31 23:38:07 │ Subscriber   │\n",
       "│ 345351 │ 22178521 │ 2019-03-31 23:39:48 │ 2019-03-31 23:41:41 │ Subscriber   │\n",
       "│ 345352 │ 22178522 │ 2019-03-31 23:47:05 │ 2019-03-31 23:51:35 │ Subscriber   │\n",
       "│ 345353 │ 22178524 │ 2019-03-31 23:51:32 │ 2019-04-01 00:04:09 │ Subscriber   │\n",
       "│ 345354 │ 22178525 │ 2019-03-31 23:52:37 │ 2019-03-31 23:58:09 │ Subscriber   │\n",
       "│ 345355 │ 22178526 │ 2019-03-31 23:52:38 │ 2019-04-01 00:06:44 │ Subscriber   │\n",
       "│ 345356 │ 22178527 │ 2019-03-31 23:53:08 │ 2019-03-31 23:56:06 │ Subscriber   │\n",
       "│ 345357 │ 22178528 │ 2019-03-31 23:53:48 │ 2019-04-01 00:01:16 │ Subscriber   │"
      ]
     },
     "execution_count": 36,
     "metadata": {},
     "output_type": "execute_result"
    }
   ],
   "source": [
    "select!(trips,  Not([:duracao_minutos\n",
    "                     :ano_aniversario\n",
    "                     ]))"
   ]
  },
  {
   "cell_type": "code",
   "execution_count": 33,
   "metadata": {},
   "outputs": [
    {
     "data": {
      "text/plain": [
       "\"trips.csv\""
      ]
     },
     "execution_count": 33,
     "metadata": {},
     "output_type": "execute_result"
    }
   ],
   "source": [
    "CSV.write(\"trips.csv\", trips, append=false)"
   ]
  },
  {
   "cell_type": "code",
   "execution_count": 34,
   "metadata": {},
   "outputs": [
    {
     "data": {
      "text/plain": [
       "4-element Array{String,1}:\n",
       " \".ipynb_checkpoints\"\n",
       " \"Divvy_Trips_2019_Q1.csv\"\n",
       " \"solução.ipynb\"\n",
       " \"trips.csv\""
      ]
     },
     "execution_count": 34,
     "metadata": {},
     "output_type": "execute_result"
    }
   ],
   "source": [
    "readdir()"
   ]
  },
  {
   "cell_type": "code",
   "execution_count": 35,
   "metadata": {},
   "outputs": [
    {
     "name": "stdout",
     "output_type": "stream",
     "text": [
      "codigo,tempo_inicial,tempo_final,tipo_usuario,genero,ano_aniversario,duracao_minutos,duracao,idade,count\n",
      "21742443,2019-01-01 00:04:37,2019-01-01 00:11:07,Subscriber,Male,1989,390.0,390.0,31,1\n",
      "21742444,2019-01-01 00:08:13,2019-01-01 00:15:34,Subscriber,Female,1990,441.0,441.0,30,1\n",
      "21742445,2019-01-01 00:13:23,2019-01-01 00:27:12,Subscriber,Female,1994,829.0,829.0,26,1\n",
      "21742446,2019-01-01 00:13:45,2019-01-01 00:43:28,Subscriber,Male,1993,1783.0,1783.0,27,1\n",
      "21742447,2019-01-01 00:14:52,2019-01-01 00:20:56,Subscriber,Male,1994,364.0,364.0,26,1\n",
      "21742448,2019-01-01 00:15:33,2019-01-01 00:19:09,Subscriber,Female,1983,216.0,216.0,37,1\n",
      "21742449,2019-01-01 00:16:06,2019-01-01 00:19:03,Subscriber,Male,1984,177.0,177.0,36,1\n",
      "21742450,2019-01-01 00:18:41,2019-01-01 00:20:21,Subscriber,Male,1990,100.0,100.0,30,1\n",
      "21742451,2019-01-01 00:18:43,2019-01-01 00:47:30,Subscriber,Male,1995,1727.0,1727.0,25,1\n"
     ]
    }
   ],
   "source": [
    ";head  trips.csv"
   ]
  },
  {
   "cell_type": "code",
   "execution_count": null,
   "metadata": {},
   "outputs": [],
   "source": []
  }
 ],
 "metadata": {
  "kernelspec": {
   "display_name": "Julia 1.4.2",
   "language": "julia",
   "name": "julia-1.4"
  },
  "language_info": {
   "file_extension": ".jl",
   "mimetype": "application/julia",
   "name": "julia",
   "version": "1.4.2"
  }
 },
 "nbformat": 4,
 "nbformat_minor": 4
}
